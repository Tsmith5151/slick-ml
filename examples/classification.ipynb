{
 "cells": [
  {
   "cell_type": "markdown",
   "metadata": {},
   "source": [
    "# Classification Examples"
   ]
  },
  {
   "cell_type": "markdown",
   "metadata": {},
   "source": [
    "[![Open In Colab](https://colab.research.google.com/assets/colab-badge.svg)](https://colab.research.google.com/github/slickml/slick-ml/blob/master/examples/classification.ipynb)"
   ]
  },
  {
   "cell_type": "markdown",
   "metadata": {},
   "source": [
    "### Google Colab Configuration"
   ]
  },
  {
   "cell_type": "code",
   "execution_count": 1,
   "metadata": {},
   "outputs": [],
   "source": [
    "# !git clone https://github.com/slickml/slick-ml.git\n",
    "# %cd slick-ml\n",
    "# !pip install -r requirements.txt"
   ]
  },
  {
   "cell_type": "markdown",
   "metadata": {},
   "source": [
    "### Local Environment Configuration"
   ]
  },
  {
   "cell_type": "code",
   "execution_count": 2,
   "metadata": {},
   "outputs": [
    {
     "name": "stdout",
     "output_type": "stream",
     "text": [
      "/home/amirhessam/Documents/GitHub/slick-ml\n"
     ]
    }
   ],
   "source": [
    "# Change path to project root\n",
    "%cd .."
   ]
  },
  {
   "cell_type": "markdown",
   "metadata": {},
   "source": [
    "### Import Python Libraries"
   ]
  },
  {
   "cell_type": "code",
   "execution_count": 3,
   "metadata": {},
   "outputs": [
    {
     "data": {
      "text/html": [
       "<style>.container { width:95% !important; }</style>"
      ],
      "text/plain": [
       "<IPython.core.display.HTML object>"
      ]
     },
     "metadata": {},
     "output_type": "display_data"
    }
   ],
   "source": [
    "%load_ext autoreload\n",
    "\n",
    "# widen the screen\n",
    "from IPython.core.display import display, HTML\n",
    "display(HTML(\"<style>.container { width:95% !important; }</style>\"))\n",
    "\n",
    "# change the path and loading class\n",
    "import os, sys\n",
    "import pandas as pd\n",
    "import numpy as np\n",
    "import seaborn as sns"
   ]
  },
  {
   "cell_type": "code",
   "execution_count": 4,
   "metadata": {},
   "outputs": [
    {
     "data": {
      "text/html": [
       "<style>.container { width:95% !important; }</style>"
      ],
      "text/plain": [
       "<IPython.core.display.HTML object>"
      ]
     },
     "metadata": {},
     "output_type": "display_data"
    }
   ],
   "source": [
    "%autoreload\n",
    "from slickml.classification import XGBoostClassifier, XGBoostCVClassifier"
   ]
  },
  {
   "cell_type": "markdown",
   "metadata": {},
   "source": [
    "_____\n",
    "# XGBoostClassifier"
   ]
  },
  {
   "cell_type": "code",
   "execution_count": 5,
   "metadata": {},
   "outputs": [
    {
     "name": "stdout",
     "output_type": "stream",
     "text": [
      "Help on class XGBoostClassifier in module slickml.classification:\n",
      "\n",
      "class XGBoostClassifier(builtins.object)\n",
      " |  XGBoostClassifier(num_boost_round=None, metrics=None, sparse_matrix=False, scale_mean=False, scale_std=False, importance_type=None, params=None)\n",
      " |  \n",
      " |  XGBoost Classifier.\n",
      " |  This is wrapper using XGBoost classifier to train a XGBoost\n",
      " |  model with using number of boosting rounds from the inputs. This\n",
      " |  function is pretty useful when feature selection is done and you\n",
      " |  want to train a model on the whole data and test on a separate\n",
      " |  validation set. Main reference is XGBoost Python API:\n",
      " |  (https://xgboost.readthedocs.io/en/latest/python/python_api.html)\n",
      " |  Parameters\n",
      " |  ----------\n",
      " |  num_boost_round: int, optional (default=200)\n",
      " |      Number of boosting round to train the model\n",
      " |  metrics: str or tuple[str], optional (default=(\"auc\"))\n",
      " |      Metric used for evaluation at cross-validation\n",
      " |      using xgboost.cv(). Please note that this is different\n",
      " |      than eval_metric that needs to be passed to params dict.\n",
      " |      Possible values are \"auc\", \"aucpr\", \"error\", \"logloss\"\n",
      " |  sparse_matrix: bool, optional (default=False)\n",
      " |      Flag to convert data to sparse matrix with csr format.\n",
      " |      This would increase the speed of feature selection for\n",
      " |      relatively large datasets\n",
      " |  scale_mean: bool, optional (default=False)\n",
      " |      Flag to center the data before scaling. This flag should be\n",
      " |      False when using sparse_matrix=True, since it centering the data\n",
      " |      would decrease the sparsity and in practice it does not make any\n",
      " |      sense to use sparse matrix method and it would make it worse.\n",
      " |  scale_std: bool, optional (default=False)\n",
      " |      Flag to scale the data to unit variance\n",
      " |      (or equivalently, unit standard deviation)\n",
      " |  importance_type: str, optional (default=\"total_gain\")\n",
      " |      Importance type of xgboost.train() with possible values\n",
      " |      \"weight\", \"gain\", \"total_gain\", \"cover\", \"total_cover\"\n",
      " |  params: dict, optional\n",
      " |      Set of parameters for evaluation of xboost.train()\n",
      " |      (default={\"eval_metric\" : \"auc\",\n",
      " |                \"tree_method\": \"hist\",\n",
      " |                \"objective\" : \"binary:logistic\",\n",
      " |                \"learning_rate\" : 0.05,\n",
      " |                \"max_depth\": 2,\n",
      " |                \"min_child_weight\" : 1,\n",
      " |                \"gamma\" : 0.0,\n",
      " |                \"reg_alpha\" : 0.0,\n",
      " |                \"reg_lambda\" : 1.0,\n",
      " |                \"subsample\" : 0.9,\n",
      " |                \"max_delta_step\": 1,\n",
      " |                \"verbosity\" : 0,\n",
      " |                \"nthread\" : 4,\n",
      " |                \"scale_pos_weight\" : 1})\n",
      " |  \n",
      " |  Attributes\n",
      " |  ----------\n",
      " |  feature_importance_: dict()\n",
      " |      Returns a dict() of all feature importance based on\n",
      " |      importance_type at each fold of each iteration during\n",
      " |      selection process\n",
      " |  scaler_: StandardScaler object\n",
      " |      Returns the scaler object if any of scale_mean or scale_std\n",
      " |      was passed True.\n",
      " |  X_train_: Pandas DataFrame()\n",
      " |      Returns scaled training data set that passed if if any of\n",
      " |      scale_mean or scale_std was passed as True, else X_train.\n",
      " |  X_test_: Pandas DataFrame()\n",
      " |      Returns transformed testing data set using scaler_ object if if any of\n",
      " |      scale_mean or scale_std was passed as True, else X_train.\n",
      " |  d_train_: xgboost.DMatrix object\n",
      " |      Returns the xgboost.DMatrix(X_train_, y_train)\n",
      " |  d_test_: xgboost.DMatrix object\n",
      " |      Returns the xgboost.DMatrix(X_test_, y_test)\n",
      " |  shap_values_train_: Numpy array\n",
      " |      SHAP values from treeExplainer using X_train\n",
      " |  shap_values_test_: Numpy array\n",
      " |      SHAP values from treeExplainer using X_test\n",
      " |  fit(X_train, y_train): class method\n",
      " |      Returns None and applies the training process using\n",
      " |      the (X_train, y_train) set using xgboost.train()\n",
      " |  predic_proba(X_test, y_test): class method\n",
      " |      Return the prediction probabilities for both classes. Please note that\n",
      " |      it only reports the probability of the positive class, while the sklearn\n",
      " |      one returns for both and slicing like pred_proba[:, 1]\n",
      " |      is needed for positive class predictions\n",
      " |  get_xgb_params(): class method\n",
      " |      Returns params dict\n",
      " |  get_feature_importance(): class method\n",
      " |      Returns feature importance based on importance_type\n",
      " |  plot_feature_importance(): class method\n",
      " |      Plots feature importance\n",
      " |  plot_shap_summary(): class method\n",
      " |      Plot shap values summary\n",
      " |  \n",
      " |  Methods defined here:\n",
      " |  \n",
      " |  __init__(self, num_boost_round=None, metrics=None, sparse_matrix=False, scale_mean=False, scale_std=False, importance_type=None, params=None)\n",
      " |      Initialize self.  See help(type(self)) for accurate signature.\n",
      " |  \n",
      " |  fit(self, X_train, y_train)\n",
      " |      Function to run xgboost.train() method based on the given number of\n",
      " |      boosting round from the inputs using (X_train, y_train) set\n",
      " |      and returns it.\n",
      " |  \n",
      " |  get_feature_importance(self)\n",
      " |      Function to return the feature importance of the best model\n",
      " |      at each fold of each iteration of feature selection.\n",
      " |  \n",
      " |  get_xgb_params(self)\n",
      " |      Function to return the train parameters for XGBoost.\n",
      " |  \n",
      " |  plot_feature_importance(self, figsize=None, color=None, marker=None, markersize=None, markeredgecolor=None, markerfacecolor=None, markeredgewidth=None, fontsize=None)\n",
      " |      Function to plot XGBoost feature importance.\n",
      " |      This function is a helper function based on the feature_importance_\n",
      " |      attribute of the XGBoostCVClassifier class.\n",
      " |      Parameters\n",
      " |      ----------\n",
      " |      feature importance: Pandas DataFrame\n",
      " |          Feature frequency\n",
      " |      figsize: tuple, optional, (default=(8, 5))\n",
      " |          Figure size\n",
      " |      color: str, optional, (default=\"#87CEEB\")\n",
      " |          Color of the vertical lines of lollipops\n",
      " |      marker: str, optional, (default=\"o\")\n",
      " |          Market style of the lollipops. Complete valid\n",
      " |          marker styke can be found at:\n",
      " |          (https://matplotlib.org/2.1.1/api/markers_api.html#module-matplotlib.markers)\n",
      " |      markersize: int or float, optional, (default=10)\n",
      " |          Markersize\n",
      " |      markeredgecolor: str, optional, (default=\"1F77B4\")\n",
      " |          Marker edge color\n",
      " |      markerfacecolor: str, optional, (default=\"1F77B4\")\n",
      " |          Marker face color\n",
      " |      markeredgewidth: int or float, optional, (default=1)\n",
      " |          Marker edge width\n",
      " |      fontsize: int or float, optional, (default=12)\n",
      " |          Fontsize for xlabel and ylabel, and ticks parameters\n",
      " |  \n",
      " |  plot_shap_summary(self, validation=True, plot_type=None, figsize=None, color=None, max_display=None, feature_names=None, title=None, show=True, sort=True, color_bar=True, layered_violin_max_num_bins=None, class_names=None, class_inds=None, color_bar_label=None)\n",
      " |      Function to plot shap summary plot.\n",
      " |      This function is a helper function to plot the shap summary plot\n",
      " |      based on all types of shap explainers including tree, linear, and dnn.\n",
      " |      Please note that this function should be ran after the predict_proba to\n",
      " |      make sure the X_test is being instansiated.\n",
      " |      Parameters\n",
      " |      ----------\n",
      " |      validation: bool, optional, (default=True)\n",
      " |          Flag to calculate SHAP values of X_test if it is True.\n",
      " |          If validation=False, it calculates the SHAP values of\n",
      " |          X_train and plots the summary plot.\n",
      " |      plot_type: str, optional (single-output default=\"dot\", multi-output default=\"bar\")\n",
      " |          The type of summar plot. Options are \"bar\", \"dot\", \"violin\", \"layered_violin\",\n",
      " |          and \"compact_dot\" which is recommended for SHAP interactions\n",
      " |      figsize: tuple, optional, (default=\"auto\")\n",
      " |          Figure size\n",
      " |      color: str, optional, (default= \"#D0AAF3\" for \"bar\")\n",
      " |          Color of violin and layered violin plots are \"RdBl\" cmap\n",
      " |          Color of the horizontal lines when plot_type=\"bar\" is \"#D0AAF3\"\n",
      " |      max_display: int, optional, (default=20)\n",
      " |          Limit to show the number of features in the plot\n",
      " |      feature_names: str, optional, (default=None)\n",
      " |          List of feature names to pass. It should follow the order\n",
      " |          of fatures\n",
      " |      title: str, optional, (default=None)\n",
      " |          Title of the plot\n",
      " |      show: bool, optional, (default=True)\n",
      " |          Flag to show the plot in inteactive environment\n",
      " |      sort: bool, optional, (default=True)\n",
      " |          Flag to plot sorted shap vlues in descending order\n",
      " |      color_bar: bool, optional, (default=True)\n",
      " |          Flag to show color_bar when plot_type is \"dot\" or \"violin\"\n",
      " |      layered_violin_max_num_bins: int, optional, (default=10)\n",
      " |          The number of bins for calculating the violin plots ranges\n",
      " |          and outliers\n",
      " |      class_names: list, optional, (default=None)\n",
      " |          List of class names for multi-output problems\n",
      " |      class_inds: list, optional, (default=True)\n",
      " |          List of class indices for multi-output problems\n",
      " |      color_bar_label: str, optional, (default=\"Feature Value\")\n",
      " |          Label for color bar\n",
      " |  \n",
      " |  plot_shap_waterfall(self, validation=True, figsize=None, bar_color=None, bar_thickness=None, line_color=None, marker=None, markersize=None, markeredgecolor=None, markerfacecolor=None, markeredgewidth=None, max_display=None, title=None, fontsize=None)\n",
      " |      Function to plot shap waterfall plot.\n",
      " |      This function is a helper function to plot the shap waterfall plot\n",
      " |      based on all types of shap explainers including tree, linear, and dnn.\n",
      " |      This would show the cumulitative/composite ratios of shap values per feature.\n",
      " |      Therefore, it can be easily seen with each feature how much explainability we\n",
      " |      can acheieve. Please note that this function should be ran after the predict_proba to\n",
      " |      make sure the X_test is being instansiated.\n",
      " |      Parameters\n",
      " |      ----------\n",
      " |      validation: bool, optional, (default=True)\n",
      " |          Flag to calculate SHAP values of X_test if it is True.\n",
      " |          If validation=False, it calculates the SHAP values of\n",
      " |          X_train and plots the summary plot.\n",
      " |      figsize: tuple, optional, (default=(8, 5))\n",
      " |          Figure size\n",
      " |      bar_color: str, optional, (default=\"#B3C3F3\")\n",
      " |          Color of the horizontal bar lines\n",
      " |      bar_thickness: float, optional, (default=0.5)\n",
      " |          Thickness (hight) of the horizontal bar lines\n",
      " |      line_color: str, optional, (default=\"purple\")\n",
      " |          Color of the line plot\n",
      " |      marker: str, optional, (default=\"o\")\n",
      " |          Marker style\n",
      " |          marker style can be found at:\n",
      " |          (https://matplotlib.org/2.1.1/api/markers_api.html#module-matplotlib.markers)\n",
      " |      markersize: int or float, optional, (default=7)\n",
      " |          Markersize\n",
      " |      markeredgecolor: str, optional, (default=\"purple\")\n",
      " |          Marker edge color\n",
      " |      markerfacecolor: str, optional, (default=\"purple\")\n",
      " |          Marker face color\n",
      " |      markeredgewidth: int or float, optional, (default=1)\n",
      " |          Marker edge width\n",
      " |      max_display: int, optional, (default=20)\n",
      " |          Limit to show the number of features in the plot\n",
      " |      title: str, optional, (default=None)\n",
      " |          Title of the plot\n",
      " |      fontsize: int or float, optional, (default=12)\n",
      " |          Fontsize for xlabel and ylabel, and ticks parameters\n",
      " |  \n",
      " |  predict_proba(self, X_test, y_test=None)\n",
      " |      Function to return the prediction probabilities for both classes.\n",
      " |      Please note that it only reports the probability of the positive class,\n",
      " |      while the sklearn one returns for both and slicing like pred_proba[:, 1]\n",
      " |      is needed for positive class predictions. Note that y_test is optional while\n",
      " |      it might not be available in validiation.\n",
      " |      Parameters\n",
      " |      ----------\n",
      " |      X_test: numpy.array or Pandas DataFrame\n",
      " |          Validation features data\n",
      " |      y_test: numpy.array[int] or list[int], optional (default=None)\n",
      " |          List of validation ground truth binary values [0, 1]\n",
      " |  \n",
      " |  ----------------------------------------------------------------------\n",
      " |  Data descriptors defined here:\n",
      " |  \n",
      " |  __dict__\n",
      " |      dictionary for instance variables (if defined)\n",
      " |  \n",
      " |  __weakref__\n",
      " |      list of weak references to the object (if defined)\n",
      "\n"
     ]
    }
   ],
   "source": [
    "help(XGBoostClassifier)"
   ]
  },
  {
   "cell_type": "markdown",
   "metadata": {},
   "source": [
    "## Example 1"
   ]
  },
  {
   "cell_type": "code",
   "execution_count": 6,
   "metadata": {},
   "outputs": [
    {
     "data": {
      "text/html": [
       "<div>\n",
       "<style scoped>\n",
       "    .dataframe tbody tr th:only-of-type {\n",
       "        vertical-align: middle;\n",
       "    }\n",
       "\n",
       "    .dataframe tbody tr th {\n",
       "        vertical-align: top;\n",
       "    }\n",
       "\n",
       "    .dataframe thead th {\n",
       "        text-align: right;\n",
       "    }\n",
       "</style>\n",
       "<table border=\"1\" class=\"dataframe\">\n",
       "  <thead>\n",
       "    <tr style=\"text-align: right;\">\n",
       "      <th></th>\n",
       "      <th>F1</th>\n",
       "      <th>F2</th>\n",
       "      <th>F3</th>\n",
       "      <th>F4</th>\n",
       "      <th>F5</th>\n",
       "      <th>F6</th>\n",
       "      <th>CLASS</th>\n",
       "    </tr>\n",
       "  </thead>\n",
       "  <tbody>\n",
       "    <tr>\n",
       "      <th>0</th>\n",
       "      <td>5.7</td>\n",
       "      <td>4.7</td>\n",
       "      <td>3.7</td>\n",
       "      <td>58.0</td>\n",
       "      <td>249.30</td>\n",
       "      <td>456.47</td>\n",
       "      <td>0</td>\n",
       "    </tr>\n",
       "    <tr>\n",
       "      <th>1</th>\n",
       "      <td>7.7</td>\n",
       "      <td>6.6</td>\n",
       "      <td>4.1</td>\n",
       "      <td>20.0</td>\n",
       "      <td>260.92</td>\n",
       "      <td>443.43</td>\n",
       "      <td>1</td>\n",
       "    </tr>\n",
       "    <tr>\n",
       "      <th>2</th>\n",
       "      <td>6.2</td>\n",
       "      <td>4.3</td>\n",
       "      <td>4.6</td>\n",
       "      <td>59.0</td>\n",
       "      <td>255.63</td>\n",
       "      <td>478.96</td>\n",
       "      <td>1</td>\n",
       "    </tr>\n",
       "    <tr>\n",
       "      <th>3</th>\n",
       "      <td>5.7</td>\n",
       "      <td>4.4</td>\n",
       "      <td>3.8</td>\n",
       "      <td>49.0</td>\n",
       "      <td>195.28</td>\n",
       "      <td>381.94</td>\n",
       "      <td>0</td>\n",
       "    </tr>\n",
       "    <tr>\n",
       "      <th>4</th>\n",
       "      <td>9.1</td>\n",
       "      <td>4.7</td>\n",
       "      <td>4.6</td>\n",
       "      <td>17.0</td>\n",
       "      <td>259.55</td>\n",
       "      <td>395.67</td>\n",
       "      <td>1</td>\n",
       "    </tr>\n",
       "  </tbody>\n",
       "</table>\n",
       "</div>"
      ],
      "text/plain": [
       "    F1   F2   F3    F4      F5      F6  CLASS\n",
       "0  5.7  4.7  3.7  58.0  249.30  456.47      0\n",
       "1  7.7  6.6  4.1  20.0  260.92  443.43      1\n",
       "2  6.2  4.3  4.6  59.0  255.63  478.96      1\n",
       "3  5.7  4.4  3.8  49.0  195.28  381.94      0\n",
       "4  9.1  4.7  4.6  17.0  259.55  395.67      1"
      ]
     },
     "execution_count": 6,
     "metadata": {},
     "output_type": "execute_result"
    }
   ],
   "source": [
    "# loading data\n",
    "df = pd.read_csv(\"data/clf_data.csv\")\n",
    "df.head()"
   ]
  },
  {
   "cell_type": "code",
   "execution_count": 7,
   "metadata": {},
   "outputs": [],
   "source": [
    "# define X, y\n",
    "y = df.CLASS.values\n",
    "X = df.drop([\"CLASS\"], axis=1)"
   ]
  },
  {
   "cell_type": "code",
   "execution_count": 8,
   "metadata": {},
   "outputs": [],
   "source": [
    "from sklearn.model_selection import train_test_split\n",
    "X_train, X_test, y_train, y_test = train_test_split(X, y,\n",
    "                                                    test_size=0.2,\n",
    "                                                    shuffle=True,\n",
    "                                                    stratify=y,\n",
    "                                                    random_state=1367)"
   ]
  },
  {
   "cell_type": "code",
   "execution_count": 9,
   "metadata": {},
   "outputs": [],
   "source": [
    "# setup feature selector object\n",
    "params={\"eval_metric\" : \"auc\",\n",
    "        \"learning_rate\" : 0.05,\n",
    "        \"max_depth\": 2,\n",
    "        \"min_child_weight\" : 1,\n",
    "        \"gamma\" : 0.0, \"silent\" : 0}\n",
    "\n",
    "clf = XGBoostClassifier(num_boost_round=333,\n",
    "                        metrics=(\"logloss\"),\n",
    "                        params=params)\n",
    "clf.fit(X_train, y_train)"
   ]
  },
  {
   "cell_type": "code",
   "execution_count": 10,
   "metadata": {},
   "outputs": [
    {
     "data": {
      "image/png": "[encoded data removed]",
      "text/plain": [
       "<Figure size 576x360 with 1 Axes>"
      ]
     },
     "metadata": {},
     "output_type": "display_data"
    }
   ],
   "source": [
    "clf.plot_feature_importance()"
   ]
  },
  {
   "cell_type": "code",
   "execution_count": 11,
   "metadata": {},
   "outputs": [
    {
     "data": {
      "text/plain": [
       "array([0.73965067, 0.5696501 , 0.99523526, 0.9484255 , 0.8447806 ,\n",
       "       0.82250917, 0.6434073 , 0.94061166, 0.98938864, 0.9988084 ],\n",
       "      dtype=float32)"
      ]
     },
     "execution_count": 11,
     "metadata": {},
     "output_type": "execute_result"
    }
   ],
   "source": [
    "# predic proba (or clf.predict_proba_)\n",
    "# please note that y_test is optional\n",
    "pred_proba = clf.predict_proba(X_test, y_test=None)\n",
    "pred_proba[:10]"
   ]
  },
  {
   "cell_type": "code",
   "execution_count": 12,
   "metadata": {},
   "outputs": [
    {
     "data": {
      "text/plain": [
       "array([0.73965067, 0.5696501 , 0.99523526, 0.9484255 , 0.8447806 ,\n",
       "       0.82250917, 0.6434073 , 0.94061166, 0.98938864, 0.9988084 ],\n",
       "      dtype=float32)"
      ]
     },
     "execution_count": 12,
     "metadata": {},
     "output_type": "execute_result"
    }
   ],
   "source": [
    "# predic proba (or clf.predict_proba_)\n",
    "pred_proba = clf.predict_proba(X_test, y_test)\n",
    "pred_proba[:10]"
   ]
  },
  {
   "cell_type": "code",
   "execution_count": 13,
   "metadata": {},
   "outputs": [
    {
     "data": {
      "image/png": "[encoded data removed]",
      "text/plain": [
       "<Figure size 576x280.8 with 2 Axes>"
      ]
     },
     "metadata": {},
     "output_type": "display_data"
    }
   ],
   "source": [
    "# shap summary plot violin on test data\n",
    "clf.plot_shap_summary(plot_type=\"violin\", validation=True)"
   ]
  },
  {
   "cell_type": "code",
   "execution_count": 14,
   "metadata": {
    "scrolled": true
   },
   "outputs": [
    {
     "data": {
      "image/png": "[encoded data removed]",
      "text/plain": [
       "<Figure size 576x280.8 with 2 Axes>"
      ]
     },
     "metadata": {},
     "output_type": "display_data"
    }
   ],
   "source": [
    "# shap summary plot layered violin plot on train data\n",
    "clf.plot_shap_summary(plot_type=\"layered_violin\", validation=False, layered_violin_max_num_bins=5)"
   ]
  },
  {
   "cell_type": "code",
   "execution_count": 15,
   "metadata": {},
   "outputs": [
    {
     "data": {
      "image/png": "[encoded data removed]",
      "text/plain": [
       "<Figure size 576x360 with 2 Axes>"
      ]
     },
     "metadata": {},
     "output_type": "display_data"
    }
   ],
   "source": [
    "# shap waterfall plot\n",
    "clf.plot_shap_waterfall()"
   ]
  },
  {
   "cell_type": "code",
   "execution_count": 16,
   "metadata": {},
   "outputs": [
    {
     "data": {
      "text/plain": [
       "array([[-1.29101670e+00, -7.59483695e-01,  4.23069239e-01,\n",
       "         7.15033263e-02,  8.11926782e-01,  1.83317453e-01],\n",
       "       [ 2.80811101e-01, -7.84179568e-01, -3.91910583e-01,\n",
       "        -7.42497072e-02, -2.15765968e-01, -1.39118791e-01],\n",
       "       [ 2.23853612e+00,  2.24254704e+00,  5.89059219e-02,\n",
       "        -1.92948282e-02, -6.92405522e-01, -9.13755521e-02],\n",
       "       [ 1.97109222e+00,  2.62834191e-01,  8.69086683e-02,\n",
       "         2.59986520e-01, -7.12282360e-01, -5.61602592e-01],\n",
       "       [ 2.24647950e-02, -1.39900184e+00, -4.01935488e-01,\n",
       "        -9.58486274e-02,  7.84132004e-01,  1.17958856e+00],\n",
       "       [ 4.06535149e-01, -5.99463470e-04, -2.79712349e-01,\n",
       "         5.79649955e-02, -1.13711789e-01, -1.41872466e-01],\n",
       "       [ 3.46254379e-01, -1.08612394e+00,  1.58513725e-01,\n",
       "         6.82047531e-02, -2.86880642e-01, -2.14622274e-01],\n",
       "       [ 4.13488388e-01,  1.02422154e+00,  5.96283525e-02,\n",
       "         5.66690862e-02, -2.76417404e-01, -1.19996436e-01],\n",
       "       [ 3.53629142e-01,  2.50538158e+00,  5.48137128e-02,\n",
       "        -2.55864114e-01,  2.95377970e-01, -2.30057780e-02],\n",
       "       [ 2.95181656e+00,  2.28715611e+00,  3.22069079e-01,\n",
       "         2.25540608e-01, -5.99196196e-01, -6.09594025e-02]], dtype=float32)"
      ]
     },
     "execution_count": 16,
     "metadata": {},
     "output_type": "execute_result"
    }
   ],
   "source": [
    "clf.shap_values_test_[:10]"
   ]
  },
  {
   "cell_type": "code",
   "execution_count": 17,
   "metadata": {},
   "outputs": [
    {
     "data": {
      "text/plain": [
       "array([[ 1.8890705 ,  2.5171251 , -0.15341438, -0.32906467, -0.78498584,\n",
       "        -0.3744133 ],\n",
       "       [ 0.3248044 , -0.2342411 ,  0.04329606,  0.23779924, -0.27085415,\n",
       "        -0.28651807],\n",
       "       [ 0.27552384, -1.3393304 , -0.4149736 ,  0.03477486,  0.1096679 ,\n",
       "         0.14510901],\n",
       "       [ 2.8261237 ,  2.386949  ,  0.05342117, -0.19627506, -0.03355521,\n",
       "         0.02238344],\n",
       "       [ 2.8193345 ,  0.34072563,  0.07263777,  0.17394564, -0.25422522,\n",
       "        -1.3115385 ],\n",
       "       [ 1.8913594 ,  2.5171251 , -0.1045079 , -0.24317099, -0.7901514 ,\n",
       "        -0.42828214],\n",
       "       [ 1.9564734 ,  0.9576397 ,  0.05829946, -0.24200746, -0.46703762,\n",
       "        -0.19142887],\n",
       "       [ 0.29071796,  0.11359535,  0.23424551, -0.12817226, -0.22862864,\n",
       "         1.0447849 ],\n",
       "       [ 0.10406707, -0.04654092,  0.06785324,  0.04517091,  0.9123624 ,\n",
       "         0.08266833],\n",
       "       [ 0.18870184, -1.4113625 ,  0.15851372,  0.12719016, -0.2572527 ,\n",
       "        -0.25356317]], dtype=float32)"
      ]
     },
     "execution_count": 17,
     "metadata": {},
     "output_type": "execute_result"
    }
   ],
   "source": [
    "clf.shap_values_train_[:10]"
   ]
  },
  {
   "cell_type": "code",
   "execution_count": 18,
   "metadata": {
    "scrolled": true
   },
   "outputs": [
    {
     "data": {
      "text/html": [
       "<div>\n",
       "<style scoped>\n",
       "    .dataframe tbody tr th:only-of-type {\n",
       "        vertical-align: middle;\n",
       "    }\n",
       "\n",
       "    .dataframe tbody tr th {\n",
       "        vertical-align: top;\n",
       "    }\n",
       "\n",
       "    .dataframe thead th {\n",
       "        text-align: right;\n",
       "    }\n",
       "</style>\n",
       "<table border=\"1\" class=\"dataframe\">\n",
       "  <thead>\n",
       "    <tr style=\"text-align: right;\">\n",
       "      <th></th>\n",
       "      <th>feature</th>\n",
       "      <th>total_gain</th>\n",
       "    </tr>\n",
       "  </thead>\n",
       "  <tbody>\n",
       "    <tr>\n",
       "      <th>0</th>\n",
       "      <td>F1</td>\n",
       "      <td>1262.331832</td>\n",
       "    </tr>\n",
       "    <tr>\n",
       "      <th>1</th>\n",
       "      <td>F6</td>\n",
       "      <td>733.761238</td>\n",
       "    </tr>\n",
       "    <tr>\n",
       "      <th>2</th>\n",
       "      <td>F5</td>\n",
       "      <td>663.409492</td>\n",
       "    </tr>\n",
       "    <tr>\n",
       "      <th>3</th>\n",
       "      <td>F2</td>\n",
       "      <td>573.096915</td>\n",
       "    </tr>\n",
       "    <tr>\n",
       "      <th>4</th>\n",
       "      <td>F4</td>\n",
       "      <td>213.159127</td>\n",
       "    </tr>\n",
       "    <tr>\n",
       "      <th>5</th>\n",
       "      <td>F3</td>\n",
       "      <td>132.719380</td>\n",
       "    </tr>\n",
       "  </tbody>\n",
       "</table>\n",
       "</div>"
      ],
      "text/plain": [
       "  feature   total_gain\n",
       "0      F1  1262.331832\n",
       "1      F6   733.761238\n",
       "2      F5   663.409492\n",
       "3      F2   573.096915\n",
       "4      F4   213.159127\n",
       "5      F3   132.719380"
      ]
     },
     "execution_count": 18,
     "metadata": {},
     "output_type": "execute_result"
    }
   ],
   "source": [
    "# feature importance (or clf.feature_importance_)\n",
    "clf.get_feature_importance()"
   ]
  },
  {
   "cell_type": "code",
   "execution_count": 19,
   "metadata": {},
   "outputs": [
    {
     "data": {
      "text/plain": [
       "<xgboost.core.Booster at 0x7f930f0641d0>"
      ]
     },
     "execution_count": 19,
     "metadata": {},
     "output_type": "execute_result"
    }
   ],
   "source": [
    "clf.model_"
   ]
  },
  {
   "cell_type": "markdown",
   "metadata": {},
   "source": [
    "# XGBoostCVClassifier"
   ]
  },
  {
   "cell_type": "code",
   "execution_count": 20,
   "metadata": {},
   "outputs": [
    {
     "name": "stdout",
     "output_type": "stream",
     "text": [
      "Help on class XGBoostCVClassifier in module slickml.classification:\n",
      "\n",
      "class XGBoostCVClassifier(XGBoostClassifier)\n",
      " |  XGBoostCVClassifier(num_boost_round=None, n_splits=None, metrics=None, early_stopping_rounds=None, random_state=None, stratified=True, shuffle=True, sparse_matrix=False, scale_mean=False, scale_std=False, importance_type=None, params=None, callbacks=False, verbose=True)\n",
      " |  \n",
      " |  XGBoost CV Classifier.\n",
      " |  This is subclass of XGBoostClassifier to run xgboost.cv()\n",
      " |  model with n-folds cross-validation and train model based on\n",
      " |  the best number of boosting round to avoid over-fitting. This\n",
      " |  function is pretty useful when feature selection is done and you\n",
      " |  want to train a model on the whole data and test on a separate\n",
      " |  validation set. In this case, cross-validation part on the train\n",
      " |  set decrease the possibility of over-fitting.\n",
      " |  run xgboost.train(). Main reference is XGBoost Python API:\n",
      " |  (https://xgboost.readthedocs.io/en/latest/python/python_api.html)\n",
      " |  Parameters\n",
      " |  ----------\n",
      " |  num_boost_round: int, optional (default=200)\n",
      " |      Number of boosting round at each fold of xgboost.cv()\n",
      " |  n_splits: int, optional (default=4)\n",
      " |      Number of folds for cross-validation\n",
      " |  metrics: str or tuple[str], optional (default=(\"auc\"))\n",
      " |      Metric used for evaluation at cross-validation\n",
      " |      using xgboost.cv(). Please note that this is different\n",
      " |      than eval_metric that needs to be passed to params dict.\n",
      " |      Possible values are \"auc\", \"aucpr\", \"error\", \"logloss\"\n",
      " |  early_stopping_rounds: int, optional (default=20)\n",
      " |      The criterion to early abort the xgboost.cv() phase\n",
      " |      if the test metric is not improved\n",
      " |  random_state: int, optional (default=1367)\n",
      " |      Random seed\n",
      " |  stratified: bool, optional (default=True)\n",
      " |      Flag to stratificaiton of the targets to run xgboost.cv() to\n",
      " |      find the best number of boosting round at each fold of\n",
      " |      each iteration\n",
      " |  shuffle: bool, optional (default=True)\n",
      " |      Flag to shuffle data to have the ability of building\n",
      " |      stratified folds in xgboost.cv()\n",
      " |  sparse_matrix: bool, optional (default=False)\n",
      " |      Flag to convert data to sparse matrix with csr format.\n",
      " |      This would increase the speed of feature selection for\n",
      " |      relatively large datasets\n",
      " |  scale_mean: bool, optional (default=False)\n",
      " |      Flag to center the data before scaling. This flag should be\n",
      " |      False when using sparse_matrix=True, since it centering the data\n",
      " |      would decrease the sparsity and in practice it does not make any\n",
      " |      sense to use sparse matrix method and it would make it worse.\n",
      " |  scale_std: bool, optional (default=False)\n",
      " |      Flag to scale the data to unit variance\n",
      " |      (or equivalently, unit standard deviation)\n",
      " |  importance_type: str, optional (default=\"total_gain\")\n",
      " |      Importance type of xgboost.train() with possible values\n",
      " |      \"weight\", \"gain\", \"total_gain\", \"cover\", \"total_cover\"\n",
      " |  params: dict, optional\n",
      " |      Set of parameters for evaluation of xboost.train()\n",
      " |      (default={\"eval_metric\" : \"auc\",\n",
      " |                \"tree_method\": \"hist\",\n",
      " |                \"objective\" : \"binary:logistic\",\n",
      " |                \"learning_rate\" : 0.05,\n",
      " |                \"max_depth\": 2,\n",
      " |                \"min_child_weight\" : 1,\n",
      " |                \"gamma\" : 0.0,\n",
      " |                \"reg_alpha\" : 0.0,\n",
      " |                \"reg_lambda\" : 1.0,\n",
      " |                \"subsample\" : 0.9,\n",
      " |                \"max_delta_step\": 1,\n",
      " |                \"verbosity\" : 0,\n",
      " |                \"nthread\" : 4,\n",
      " |                \"scale_pos_weight\" : 1})\n",
      " |  callbacks: bool, optional (default=False)\n",
      " |      Flag for printing results during xgboost.cv().\n",
      " |      This would help to track the early stopping criterion\n",
      " |  verbose: bool, optional (default=False)\n",
      " |      Flag to show the final results of xgboost.cv()\n",
      " |  \n",
      " |  Attributes\n",
      " |  ----------\n",
      " |  feature_importance_: dict()\n",
      " |      Returns a dict() of all feature importance based on\n",
      " |      importance_type at each fold of each iteration during\n",
      " |      selection process\n",
      " |  feature_frequency_: Pandas DataFrame()\n",
      " |      Returns a DataFrame() cosists of total frequency of\n",
      " |      each feature during the selection process\n",
      " |  cv_results_: Pandas DataFrame()\n",
      " |      Return a Pandas DataFrame() of the mean value of the metrics\n",
      " |      in n-folds cross-validation for each boosting round\n",
      " |  scaler_: StandardScaler object\n",
      " |      Returns the scaler object if any of scale_mean or scale_std\n",
      " |      was passed True.\n",
      " |  X_train_: Pandas DataFrame()\n",
      " |      Returns scaled training data set that passed if if any of\n",
      " |      scale_mean or scale_std was passed as True, else X_train.\n",
      " |  X_test_: Pandas DataFrame()\n",
      " |      Returns transformed testing data set using scaler_ object if if any of\n",
      " |      scale_mean or scale_std was passed as True, else X_train.\n",
      " |  d_train_: xgboost.DMatrix object\n",
      " |      Returns the xgboost.DMatrix(X_train_, y_train)\n",
      " |  d_test_: xgboost.DMatrix object\n",
      " |      Returns the xgboost.DMatrix(X_test_, y_test)\n",
      " |  shap_values_train_: Numpy array\n",
      " |      SHAP values from treeExplainer using X_train\n",
      " |  shap_values_test_: Numpy array\n",
      " |      SHAP values from treeExplainer using X_test\n",
      " |  fit(X_train, y_train): class method\n",
      " |      Returns None and applies the training process using\n",
      " |      the (X_train, y_train) set using xgboost.cv() and xgboost.train()\n",
      " |  predic_proba(X_test, y_test): class method\n",
      " |      Return the prediction probabilities for both classes. Please note that\n",
      " |      it only reports the probability of the positive class, while the sklearn\n",
      " |      one returns for both and slicing like pred_proba[:, 1]\n",
      " |      is needed for positive class predictions\n",
      " |  get_xgb_params(): class method\n",
      " |      Returns params dict\n",
      " |  get_feature_importance(): class method\n",
      " |      Returns feature importance based on importance_type\n",
      " |      at each fold of each iteration of the selection process\n",
      " |  get_cv_results(): class method\n",
      " |      Return a Pandas DataFrame() of the mean value of the metrics\n",
      " |      in n-folds cross-validation for each boosting round\n",
      " |  plot_cv_results(): class method\n",
      " |      Plot cross-validation results\n",
      " |  plot_feature_importance(): class method\n",
      " |      Plots feature importance\n",
      " |  plot_shap_summary(): class method\n",
      " |      Plot shap values summary\n",
      " |  \n",
      " |  Method resolution order:\n",
      " |      XGBoostCVClassifier\n",
      " |      XGBoostClassifier\n",
      " |      builtins.object\n",
      " |  \n",
      " |  Methods defined here:\n",
      " |  \n",
      " |  __init__(self, num_boost_round=None, n_splits=None, metrics=None, early_stopping_rounds=None, random_state=None, stratified=True, shuffle=True, sparse_matrix=False, scale_mean=False, scale_std=False, importance_type=None, params=None, callbacks=False, verbose=True)\n",
      " |      Initialize self.  See help(type(self)) for accurate signature.\n",
      " |  \n",
      " |  fit(self, X_train, y_train)\n",
      " |      Function to run xgboost.cv() method first to find the best number of boosting round\n",
      " |      and train a model based on that on (X_train, y_train) set and returns it.\n",
      " |  \n",
      " |  get_cv_results(self)\n",
      " |      Function to return both internal and external cross-validation\n",
      " |      results as Pandas DataFrame().\n",
      " |  \n",
      " |  plot_cv_results(self, figsize=None, linestyle=None, train_label=None, test_label=None, train_color=None, train_std_color=None, test_color=None, test_std_color=None)\n",
      " |      Function to plot the results of xgboost.cv() process and evolution\n",
      " |      of metrics through number of boosting rounds.\n",
      " |      Parameters\n",
      " |      ----------\n",
      " |      cv_results: Pandas DataFrame()\n",
      " |          Cross-validation results in DataFrame() format\n",
      " |      figsize: tuple, optional, (default=(8, 5))\n",
      " |          Figure size\n",
      " |      linestyle: str, optional, (default=\"--\")\n",
      " |          Style of lines. Complete options are available at\n",
      " |          (https://matplotlib.org/3.1.0/gallery/lines_bars_and_markers/linestyles.html)\n",
      " |      train_label: str, optional (default=\"Train\")\n",
      " |          Label in the figure legend for the training line\n",
      " |      test_label: str, optional (default=\"Test\")\n",
      " |          Label in the figure legend for the training line\n",
      " |      train_color: str, optional, (default=\"navy\")\n",
      " |          Color of the training line\n",
      " |      train_std_color: str, optional, (default=\"#B3C3F3\")\n",
      " |          Color of the edge color of the training std bars\n",
      " |      test_color: str, optional, (default=\"purple\")\n",
      " |          Color of the testing line\n",
      " |      test_std_color: str, optional, (default=\"#D0AAF3\")\n",
      " |          Color of the edge color of the testing std bars\n",
      " |  \n",
      " |  ----------------------------------------------------------------------\n",
      " |  Methods inherited from XGBoostClassifier:\n",
      " |  \n",
      " |  get_feature_importance(self)\n",
      " |      Function to return the feature importance of the best model\n",
      " |      at each fold of each iteration of feature selection.\n",
      " |  \n",
      " |  get_xgb_params(self)\n",
      " |      Function to return the train parameters for XGBoost.\n",
      " |  \n",
      " |  plot_feature_importance(self, figsize=None, color=None, marker=None, markersize=None, markeredgecolor=None, markerfacecolor=None, markeredgewidth=None, fontsize=None)\n",
      " |      Function to plot XGBoost feature importance.\n",
      " |      This function is a helper function based on the feature_importance_\n",
      " |      attribute of the XGBoostCVClassifier class.\n",
      " |      Parameters\n",
      " |      ----------\n",
      " |      feature importance: Pandas DataFrame\n",
      " |          Feature frequency\n",
      " |      figsize: tuple, optional, (default=(8, 5))\n",
      " |          Figure size\n",
      " |      color: str, optional, (default=\"#87CEEB\")\n",
      " |          Color of the vertical lines of lollipops\n",
      " |      marker: str, optional, (default=\"o\")\n",
      " |          Market style of the lollipops. Complete valid\n",
      " |          marker styke can be found at:\n",
      " |          (https://matplotlib.org/2.1.1/api/markers_api.html#module-matplotlib.markers)\n",
      " |      markersize: int or float, optional, (default=10)\n",
      " |          Markersize\n",
      " |      markeredgecolor: str, optional, (default=\"1F77B4\")\n",
      " |          Marker edge color\n",
      " |      markerfacecolor: str, optional, (default=\"1F77B4\")\n",
      " |          Marker face color\n",
      " |      markeredgewidth: int or float, optional, (default=1)\n",
      " |          Marker edge width\n",
      " |      fontsize: int or float, optional, (default=12)\n",
      " |          Fontsize for xlabel and ylabel, and ticks parameters\n",
      " |  \n",
      " |  plot_shap_summary(self, validation=True, plot_type=None, figsize=None, color=None, max_display=None, feature_names=None, title=None, show=True, sort=True, color_bar=True, layered_violin_max_num_bins=None, class_names=None, class_inds=None, color_bar_label=None)\n",
      " |      Function to plot shap summary plot.\n",
      " |      This function is a helper function to plot the shap summary plot\n",
      " |      based on all types of shap explainers including tree, linear, and dnn.\n",
      " |      Please note that this function should be ran after the predict_proba to\n",
      " |      make sure the X_test is being instansiated.\n",
      " |      Parameters\n",
      " |      ----------\n",
      " |      validation: bool, optional, (default=True)\n",
      " |          Flag to calculate SHAP values of X_test if it is True.\n",
      " |          If validation=False, it calculates the SHAP values of\n",
      " |          X_train and plots the summary plot.\n",
      " |      plot_type: str, optional (single-output default=\"dot\", multi-output default=\"bar\")\n",
      " |          The type of summar plot. Options are \"bar\", \"dot\", \"violin\", \"layered_violin\",\n",
      " |          and \"compact_dot\" which is recommended for SHAP interactions\n",
      " |      figsize: tuple, optional, (default=\"auto\")\n",
      " |          Figure size\n",
      " |      color: str, optional, (default= \"#D0AAF3\" for \"bar\")\n",
      " |          Color of violin and layered violin plots are \"RdBl\" cmap\n",
      " |          Color of the horizontal lines when plot_type=\"bar\" is \"#D0AAF3\"\n",
      " |      max_display: int, optional, (default=20)\n",
      " |          Limit to show the number of features in the plot\n",
      " |      feature_names: str, optional, (default=None)\n",
      " |          List of feature names to pass. It should follow the order\n",
      " |          of fatures\n",
      " |      title: str, optional, (default=None)\n",
      " |          Title of the plot\n",
      " |      show: bool, optional, (default=True)\n",
      " |          Flag to show the plot in inteactive environment\n",
      " |      sort: bool, optional, (default=True)\n",
      " |          Flag to plot sorted shap vlues in descending order\n",
      " |      color_bar: bool, optional, (default=True)\n",
      " |          Flag to show color_bar when plot_type is \"dot\" or \"violin\"\n",
      " |      layered_violin_max_num_bins: int, optional, (default=10)\n",
      " |          The number of bins for calculating the violin plots ranges\n",
      " |          and outliers\n",
      " |      class_names: list, optional, (default=None)\n",
      " |          List of class names for multi-output problems\n",
      " |      class_inds: list, optional, (default=True)\n",
      " |          List of class indices for multi-output problems\n",
      " |      color_bar_label: str, optional, (default=\"Feature Value\")\n",
      " |          Label for color bar\n",
      " |  \n",
      " |  plot_shap_waterfall(self, validation=True, figsize=None, bar_color=None, bar_thickness=None, line_color=None, marker=None, markersize=None, markeredgecolor=None, markerfacecolor=None, markeredgewidth=None, max_display=None, title=None, fontsize=None)\n",
      " |      Function to plot shap waterfall plot.\n",
      " |      This function is a helper function to plot the shap waterfall plot\n",
      " |      based on all types of shap explainers including tree, linear, and dnn.\n",
      " |      This would show the cumulitative/composite ratios of shap values per feature.\n",
      " |      Therefore, it can be easily seen with each feature how much explainability we\n",
      " |      can acheieve. Please note that this function should be ran after the predict_proba to\n",
      " |      make sure the X_test is being instansiated.\n",
      " |      Parameters\n",
      " |      ----------\n",
      " |      validation: bool, optional, (default=True)\n",
      " |          Flag to calculate SHAP values of X_test if it is True.\n",
      " |          If validation=False, it calculates the SHAP values of\n",
      " |          X_train and plots the summary plot.\n",
      " |      figsize: tuple, optional, (default=(8, 5))\n",
      " |          Figure size\n",
      " |      bar_color: str, optional, (default=\"#B3C3F3\")\n",
      " |          Color of the horizontal bar lines\n",
      " |      bar_thickness: float, optional, (default=0.5)\n",
      " |          Thickness (hight) of the horizontal bar lines\n",
      " |      line_color: str, optional, (default=\"purple\")\n",
      " |          Color of the line plot\n",
      " |      marker: str, optional, (default=\"o\")\n",
      " |          Marker style\n",
      " |          marker style can be found at:\n",
      " |          (https://matplotlib.org/2.1.1/api/markers_api.html#module-matplotlib.markers)\n",
      " |      markersize: int or float, optional, (default=7)\n",
      " |          Markersize\n",
      " |      markeredgecolor: str, optional, (default=\"purple\")\n",
      " |          Marker edge color\n",
      " |      markerfacecolor: str, optional, (default=\"purple\")\n",
      " |          Marker face color\n",
      " |      markeredgewidth: int or float, optional, (default=1)\n",
      " |          Marker edge width\n",
      " |      max_display: int, optional, (default=20)\n",
      " |          Limit to show the number of features in the plot\n",
      " |      title: str, optional, (default=None)\n",
      " |          Title of the plot\n",
      " |      fontsize: int or float, optional, (default=12)\n",
      " |          Fontsize for xlabel and ylabel, and ticks parameters\n",
      " |  \n",
      " |  predict_proba(self, X_test, y_test=None)\n",
      " |      Function to return the prediction probabilities for both classes.\n",
      " |      Please note that it only reports the probability of the positive class,\n",
      " |      while the sklearn one returns for both and slicing like pred_proba[:, 1]\n",
      " |      is needed for positive class predictions. Note that y_test is optional while\n",
      " |      it might not be available in validiation.\n",
      " |      Parameters\n",
      " |      ----------\n",
      " |      X_test: numpy.array or Pandas DataFrame\n",
      " |          Validation features data\n",
      " |      y_test: numpy.array[int] or list[int], optional (default=None)\n",
      " |          List of validation ground truth binary values [0, 1]\n",
      " |  \n",
      " |  ----------------------------------------------------------------------\n",
      " |  Data descriptors inherited from XGBoostClassifier:\n",
      " |  \n",
      " |  __dict__\n",
      " |      dictionary for instance variables (if defined)\n",
      " |  \n",
      " |  __weakref__\n",
      " |      list of weak references to the object (if defined)\n",
      "\n"
     ]
    }
   ],
   "source": [
    "help(XGBoostCVClassifier)"
   ]
  },
  {
   "cell_type": "markdown",
   "metadata": {},
   "source": [
    "## Example 1"
   ]
  },
  {
   "cell_type": "code",
   "execution_count": 21,
   "metadata": {},
   "outputs": [
    {
     "data": {
      "text/html": [
       "<div>\n",
       "<style scoped>\n",
       "    .dataframe tbody tr th:only-of-type {\n",
       "        vertical-align: middle;\n",
       "    }\n",
       "\n",
       "    .dataframe tbody tr th {\n",
       "        vertical-align: top;\n",
       "    }\n",
       "\n",
       "    .dataframe thead th {\n",
       "        text-align: right;\n",
       "    }\n",
       "</style>\n",
       "<table border=\"1\" class=\"dataframe\">\n",
       "  <thead>\n",
       "    <tr style=\"text-align: right;\">\n",
       "      <th></th>\n",
       "      <th>F1</th>\n",
       "      <th>F2</th>\n",
       "      <th>F3</th>\n",
       "      <th>F4</th>\n",
       "      <th>F5</th>\n",
       "      <th>F6</th>\n",
       "      <th>CLASS</th>\n",
       "    </tr>\n",
       "  </thead>\n",
       "  <tbody>\n",
       "    <tr>\n",
       "      <th>0</th>\n",
       "      <td>5.7</td>\n",
       "      <td>4.7</td>\n",
       "      <td>3.7</td>\n",
       "      <td>58.0</td>\n",
       "      <td>249.30</td>\n",
       "      <td>456.47</td>\n",
       "      <td>0</td>\n",
       "    </tr>\n",
       "    <tr>\n",
       "      <th>1</th>\n",
       "      <td>7.7</td>\n",
       "      <td>6.6</td>\n",
       "      <td>4.1</td>\n",
       "      <td>20.0</td>\n",
       "      <td>260.92</td>\n",
       "      <td>443.43</td>\n",
       "      <td>1</td>\n",
       "    </tr>\n",
       "    <tr>\n",
       "      <th>2</th>\n",
       "      <td>6.2</td>\n",
       "      <td>4.3</td>\n",
       "      <td>4.6</td>\n",
       "      <td>59.0</td>\n",
       "      <td>255.63</td>\n",
       "      <td>478.96</td>\n",
       "      <td>1</td>\n",
       "    </tr>\n",
       "    <tr>\n",
       "      <th>3</th>\n",
       "      <td>5.7</td>\n",
       "      <td>4.4</td>\n",
       "      <td>3.8</td>\n",
       "      <td>49.0</td>\n",
       "      <td>195.28</td>\n",
       "      <td>381.94</td>\n",
       "      <td>0</td>\n",
       "    </tr>\n",
       "    <tr>\n",
       "      <th>4</th>\n",
       "      <td>9.1</td>\n",
       "      <td>4.7</td>\n",
       "      <td>4.6</td>\n",
       "      <td>17.0</td>\n",
       "      <td>259.55</td>\n",
       "      <td>395.67</td>\n",
       "      <td>1</td>\n",
       "    </tr>\n",
       "  </tbody>\n",
       "</table>\n",
       "</div>"
      ],
      "text/plain": [
       "    F1   F2   F3    F4      F5      F6  CLASS\n",
       "0  5.7  4.7  3.7  58.0  249.30  456.47      0\n",
       "1  7.7  6.6  4.1  20.0  260.92  443.43      1\n",
       "2  6.2  4.3  4.6  59.0  255.63  478.96      1\n",
       "3  5.7  4.4  3.8  49.0  195.28  381.94      0\n",
       "4  9.1  4.7  4.6  17.0  259.55  395.67      1"
      ]
     },
     "execution_count": 21,
     "metadata": {},
     "output_type": "execute_result"
    }
   ],
   "source": [
    "# loading data\n",
    "df = pd.read_csv(\"data/clf_data.csv\")\n",
    "df.head()"
   ]
  },
  {
   "cell_type": "code",
   "execution_count": 22,
   "metadata": {},
   "outputs": [],
   "source": [
    "# define X, y\n",
    "y = df.CLASS.values\n",
    "X = df.drop([\"CLASS\"], axis=1)"
   ]
  },
  {
   "cell_type": "code",
   "execution_count": 23,
   "metadata": {},
   "outputs": [],
   "source": [
    "from sklearn.model_selection import train_test_split\n",
    "X_train, X_test, y_train, y_test = train_test_split(X, y,\n",
    "                                                    test_size=0.2,\n",
    "                                                    shuffle=True,\n",
    "                                                    stratify=y,\n",
    "                                                    random_state=1367)"
   ]
  },
  {
   "cell_type": "code",
   "execution_count": 24,
   "metadata": {},
   "outputs": [
    {
     "name": "stdout",
     "output_type": "stream",
     "text": [
      "\u001b[1m*-* \u001b[92mBest Boosting Round = 191\u001b[0m\u001b[1m -*- \u001b[31m4-Folds CV LOGLOSS: \u001b[0m\u001b[1m\u001b[44mTrain = 0.232 +/- 0.008\u001b[0m\u001b[1m -*- \u001b[45mTest = 0.320 +/- 0.025\u001b[0m\u001b[1m *-*\n"
     ]
    }
   ],
   "source": [
    "# setup feature selector object\n",
    "params={\"eval_metric\" : \"auc\",\n",
    "        \"learning_rate\" : 0.05,\n",
    "        \"max_depth\": 2,\n",
    "        \"min_child_weight\" : 1,\n",
    "        \"gamma\" : 0.0}\n",
    "\n",
    "clf = XGBoostCVClassifier(num_boost_round=500,\n",
    "                          n_splits=4,\n",
    "                          metrics=(\"logloss\"),\n",
    "                          params=params)\n",
    "clf.fit(X_train, y_train)"
   ]
  },
  {
   "cell_type": "code",
   "execution_count": 25,
   "metadata": {},
   "outputs": [
    {
     "data": {
      "image/png": "[encoded data removed]",
      "text/plain": [
       "<Figure size 576x360 with 1 Axes>"
      ]
     },
     "metadata": {},
     "output_type": "display_data"
    }
   ],
   "source": [
    "clf.plot_cv_results()"
   ]
  },
  {
   "cell_type": "code",
   "execution_count": 26,
   "metadata": {},
   "outputs": [
    {
     "data": {
      "image/png": "[encoded data removed]",
      "text/plain": [
       "<Figure size 576x360 with 1 Axes>"
      ]
     },
     "metadata": {},
     "output_type": "display_data"
    }
   ],
   "source": [
    "clf.plot_feature_importance()"
   ]
  },
  {
   "cell_type": "code",
   "execution_count": 27,
   "metadata": {},
   "outputs": [
    {
     "data": {
      "text/plain": [
       "array([0.6872404 , 0.6437372 , 0.9898107 , 0.91745585, 0.8029401 ,\n",
       "       0.79498386, 0.6696425 , 0.9213432 , 0.9763105 , 0.9957327 ],\n",
       "      dtype=float32)"
      ]
     },
     "execution_count": 27,
     "metadata": {},
     "output_type": "execute_result"
    }
   ],
   "source": [
    "# predic proba (or clf.predict_proba_)\n",
    "pred_proba = clf.predict_proba(X_test, y_test)\n",
    "pred_proba[:10]"
   ]
  },
  {
   "cell_type": "code",
   "execution_count": 28,
   "metadata": {},
   "outputs": [
    {
     "data": {
      "image/png": "[encoded data removed]",
      "text/plain": [
       "<Figure size 576x280.8 with 2 Axes>"
      ]
     },
     "metadata": {},
     "output_type": "display_data"
    }
   ],
   "source": [
    "# shap summary plot violin on test data\n",
    "clf.plot_shap_summary(plot_type=\"violin\", validation=True)"
   ]
  },
  {
   "cell_type": "code",
   "execution_count": 29,
   "metadata": {
    "scrolled": true
   },
   "outputs": [
    {
     "data": {
      "image/png": "[encoded data removed]",
      "text/plain": [
       "<Figure size 576x280.8 with 2 Axes>"
      ]
     },
     "metadata": {},
     "output_type": "display_data"
    }
   ],
   "source": [
    "# shap summary plot layered violin plot on train data\n",
    "clf.plot_shap_summary(plot_type=\"layered_violin\", validation=False, layered_violin_max_num_bins=5)"
   ]
  },
  {
   "cell_type": "code",
   "execution_count": 30,
   "metadata": {},
   "outputs": [
    {
     "data": {
      "image/png": "[encoded data removed]",
      "text/plain": [
       "<Figure size 576x360 with 2 Axes>"
      ]
     },
     "metadata": {},
     "output_type": "display_data"
    }
   ],
   "source": [
    "# shap waterfall plot\n",
    "clf.plot_shap_waterfall()"
   ]
  },
  {
   "cell_type": "code",
   "execution_count": 31,
   "metadata": {},
   "outputs": [
    {
     "data": {
      "text/plain": [
       "array([[-1.17578661e+00, -5.86567044e-01,  2.24011347e-01,\n",
       "         1.57289244e-02,  5.16849458e-01,  1.82012349e-01],\n",
       "       [ 2.63391405e-01, -6.70697689e-01, -3.13290775e-01,\n",
       "        -2.99329627e-02, -1.77391380e-01, -9.14573073e-02],\n",
       "       [ 1.92844176e+00,  1.65123546e+00,  6.71078265e-02,\n",
       "        -1.91674568e-04, -4.64400291e-01, -2.17012703e-01],\n",
       "       [ 1.73300028e+00,  5.55277169e-02,  7.87695572e-02,\n",
       "         7.93843195e-02, -5.03318131e-01, -6.46094084e-01],\n",
       "       [-8.95560607e-02, -1.23228216e+00, -3.07602823e-01,\n",
       "        -7.56613836e-02,  5.68822742e-01,  9.30051088e-01],\n",
       "       [ 2.82156050e-01, -1.97538398e-02, -2.15325534e-01,\n",
       "         6.93768915e-03, -1.98684931e-01, -1.11096114e-01],\n",
       "       [ 2.41128638e-01, -9.37509894e-01,  1.55264497e-01,\n",
       "        -3.11029796e-03, -2.40322769e-01, -1.19882606e-01],\n",
       "       [ 3.48925084e-01,  6.94350719e-01,  7.06390738e-02,\n",
       "         5.83638158e-03, -1.72579139e-01, -9.74345058e-02],\n",
       "       [ 2.96836704e-01,  1.69714773e+00,  1.37419537e-01,\n",
       "        -7.43760616e-02,  8.90425518e-02, -3.83233465e-02],\n",
       "       [ 2.48138022e+00,  1.67747438e+00,  1.33881077e-01,\n",
       "         1.84596092e-01, -4.25922215e-01, -2.09897041e-01]], dtype=float32)"
      ]
     },
     "execution_count": 31,
     "metadata": {},
     "output_type": "execute_result"
    }
   ],
   "source": [
    "clf.shap_values_test_[:10]"
   ]
  },
  {
   "cell_type": "code",
   "execution_count": 32,
   "metadata": {},
   "outputs": [
    {
     "data": {
      "text/plain": [
       "array([[ 1.6810727 ,  1.8670248 , -0.12494415, -0.11206084, -0.5291322 ,\n",
       "        -0.4470591 ],\n",
       "       [ 0.20235999, -0.23255867,  0.05476505,  0.06951104, -0.21339028,\n",
       "        -0.4764193 ],\n",
       "       [ 0.15221135, -1.1012809 , -0.32120004,  0.01052977,  0.04009805,\n",
       "         0.23228301],\n",
       "       [ 2.3585417 ,  1.646324  ,  0.06655529, -0.08806157, -0.11101343,\n",
       "         0.0118833 ],\n",
       "       [ 2.3252146 ,  0.07344273,  0.06707823,  0.1696119 , -0.47139165,\n",
       "        -1.3900161 ],\n",
       "       [ 1.6970465 ,  1.8670248 , -0.12494415, -0.07160836, -0.5291322 ,\n",
       "        -0.4470591 ],\n",
       "       [ 1.6877612 ,  0.63464016,  0.06441025, -0.0825933 , -0.2945922 ,\n",
       "        -0.23303552],\n",
       "       [ 0.25127745,  0.03300017,  0.15304364, -0.10549548, -0.1993008 ,\n",
       "         0.8770816 ],\n",
       "       [ 0.12158564, -0.06782506,  0.08321874,  0.01529711,  0.55117816,\n",
       "         0.2280842 ],\n",
       "       [ 0.18574946, -1.0985618 ,  0.1552645 ,  0.02025529, -0.2360702 ,\n",
       "        -0.43954518]], dtype=float32)"
      ]
     },
     "execution_count": 32,
     "metadata": {},
     "output_type": "execute_result"
    }
   ],
   "source": [
    "clf.shap_values_train_[:10]"
   ]
  },
  {
   "cell_type": "code",
   "execution_count": 33,
   "metadata": {},
   "outputs": [
    {
     "data": {
      "text/html": [
       "<div>\n",
       "<style scoped>\n",
       "    .dataframe tbody tr th:only-of-type {\n",
       "        vertical-align: middle;\n",
       "    }\n",
       "\n",
       "    .dataframe tbody tr th {\n",
       "        vertical-align: top;\n",
       "    }\n",
       "\n",
       "    .dataframe thead th {\n",
       "        text-align: right;\n",
       "    }\n",
       "</style>\n",
       "<table border=\"1\" class=\"dataframe\">\n",
       "  <thead>\n",
       "    <tr style=\"text-align: right;\">\n",
       "      <th></th>\n",
       "      <th>train-logloss-mean</th>\n",
       "      <th>train-logloss-std</th>\n",
       "      <th>test-logloss-mean</th>\n",
       "      <th>test-logloss-std</th>\n",
       "    </tr>\n",
       "  </thead>\n",
       "  <tbody>\n",
       "    <tr>\n",
       "      <th>187</th>\n",
       "      <td>0.233434</td>\n",
       "      <td>0.008174</td>\n",
       "      <td>0.320090</td>\n",
       "      <td>0.025060</td>\n",
       "    </tr>\n",
       "    <tr>\n",
       "      <th>188</th>\n",
       "      <td>0.233021</td>\n",
       "      <td>0.008195</td>\n",
       "      <td>0.320024</td>\n",
       "      <td>0.024866</td>\n",
       "    </tr>\n",
       "    <tr>\n",
       "      <th>189</th>\n",
       "      <td>0.232621</td>\n",
       "      <td>0.008224</td>\n",
       "      <td>0.320062</td>\n",
       "      <td>0.024701</td>\n",
       "    </tr>\n",
       "    <tr>\n",
       "      <th>190</th>\n",
       "      <td>0.232216</td>\n",
       "      <td>0.008193</td>\n",
       "      <td>0.319890</td>\n",
       "      <td>0.024903</td>\n",
       "    </tr>\n",
       "    <tr>\n",
       "      <th>191</th>\n",
       "      <td>0.231895</td>\n",
       "      <td>0.008241</td>\n",
       "      <td>0.319651</td>\n",
       "      <td>0.024945</td>\n",
       "    </tr>\n",
       "  </tbody>\n",
       "</table>\n",
       "</div>"
      ],
      "text/plain": [
       "     train-logloss-mean  train-logloss-std  test-logloss-mean  \\\n",
       "187            0.233434           0.008174           0.320090   \n",
       "188            0.233021           0.008195           0.320024   \n",
       "189            0.232621           0.008224           0.320062   \n",
       "190            0.232216           0.008193           0.319890   \n",
       "191            0.231895           0.008241           0.319651   \n",
       "\n",
       "     test-logloss-std  \n",
       "187          0.025060  \n",
       "188          0.024866  \n",
       "189          0.024701  \n",
       "190          0.024903  \n",
       "191          0.024945  "
      ]
     },
     "execution_count": 33,
     "metadata": {},
     "output_type": "execute_result"
    }
   ],
   "source": [
    "# cv_results (or clf.cv_results_)\n",
    "cvr = clf.get_cv_results()\n",
    "cvr.tail()"
   ]
  },
  {
   "cell_type": "code",
   "execution_count": 34,
   "metadata": {
    "scrolled": true
   },
   "outputs": [
    {
     "data": {
      "text/html": [
       "<div>\n",
       "<style scoped>\n",
       "    .dataframe tbody tr th:only-of-type {\n",
       "        vertical-align: middle;\n",
       "    }\n",
       "\n",
       "    .dataframe tbody tr th {\n",
       "        vertical-align: top;\n",
       "    }\n",
       "\n",
       "    .dataframe thead th {\n",
       "        text-align: right;\n",
       "    }\n",
       "</style>\n",
       "<table border=\"1\" class=\"dataframe\">\n",
       "  <thead>\n",
       "    <tr style=\"text-align: right;\">\n",
       "      <th></th>\n",
       "      <th>feature</th>\n",
       "      <th>total_gain</th>\n",
       "    </tr>\n",
       "  </thead>\n",
       "  <tbody>\n",
       "    <tr>\n",
       "      <th>0</th>\n",
       "      <td>F1</td>\n",
       "      <td>1145.921151</td>\n",
       "    </tr>\n",
       "    <tr>\n",
       "      <th>1</th>\n",
       "      <td>F6</td>\n",
       "      <td>622.148287</td>\n",
       "    </tr>\n",
       "    <tr>\n",
       "      <th>2</th>\n",
       "      <td>F5</td>\n",
       "      <td>570.030153</td>\n",
       "    </tr>\n",
       "    <tr>\n",
       "      <th>3</th>\n",
       "      <td>F2</td>\n",
       "      <td>479.170822</td>\n",
       "    </tr>\n",
       "    <tr>\n",
       "      <th>4</th>\n",
       "      <td>F4</td>\n",
       "      <td>88.880518</td>\n",
       "    </tr>\n",
       "    <tr>\n",
       "      <th>5</th>\n",
       "      <td>F3</td>\n",
       "      <td>86.359118</td>\n",
       "    </tr>\n",
       "  </tbody>\n",
       "</table>\n",
       "</div>"
      ],
      "text/plain": [
       "  feature   total_gain\n",
       "0      F1  1145.921151\n",
       "1      F6   622.148287\n",
       "2      F5   570.030153\n",
       "3      F2   479.170822\n",
       "4      F4    88.880518\n",
       "5      F3    86.359118"
      ]
     },
     "execution_count": 34,
     "metadata": {},
     "output_type": "execute_result"
    }
   ],
   "source": [
    "# feature importance (or clf.feature_importance_)\n",
    "clf.get_feature_importance()"
   ]
  },
  {
   "cell_type": "code",
   "execution_count": 35,
   "metadata": {},
   "outputs": [],
   "source": [
    "x = clf.shap_values_test_[0]"
   ]
  },
  {
   "cell_type": "code",
   "execution_count": 36,
   "metadata": {},
   "outputs": [
    {
     "ename": "TypeError",
     "evalue": "'TreeExplainer' object is not callable",
     "output_type": "error",
     "traceback": [
      "\u001b[0;31m---------------------------------------------------------------------------\u001b[0m",
      "\u001b[0;31mTypeError\u001b[0m                                 Traceback (most recent call last)",
      "\u001b[0;32m<ipython-input-36-4dc32b991098>\u001b[0m in \u001b[0;36m<module>\u001b[0;34m\u001b[0m\n\u001b[1;32m      9\u001b[0m \u001b[0;31m# (same syntax works for LightGBM, CatBoost, scikit-learn, transformers, Spark, etc.)\u001b[0m\u001b[0;34m\u001b[0m\u001b[0;34m\u001b[0m\u001b[0;34m\u001b[0m\u001b[0m\n\u001b[1;32m     10\u001b[0m \u001b[0mexplainer\u001b[0m \u001b[0;34m=\u001b[0m \u001b[0mshap\u001b[0m\u001b[0;34m.\u001b[0m\u001b[0mTreeExplainer\u001b[0m\u001b[0;34m(\u001b[0m\u001b[0mmodel\u001b[0m\u001b[0;34m)\u001b[0m\u001b[0;34m\u001b[0m\u001b[0;34m\u001b[0m\u001b[0m\n\u001b[0;32m---> 11\u001b[0;31m \u001b[0mshap_values\u001b[0m \u001b[0;34m=\u001b[0m \u001b[0mexplainer\u001b[0m\u001b[0;34m(\u001b[0m\u001b[0mX\u001b[0m\u001b[0;34m)\u001b[0m\u001b[0;34m\u001b[0m\u001b[0;34m\u001b[0m\u001b[0m\n\u001b[0m\u001b[1;32m     12\u001b[0m \u001b[0;34m\u001b[0m\u001b[0m\n\u001b[1;32m     13\u001b[0m \u001b[0;31m# visualize the first prediction's explanation\u001b[0m\u001b[0;34m\u001b[0m\u001b[0;34m\u001b[0m\u001b[0;34m\u001b[0m\u001b[0m\n",
      "\u001b[0;31mTypeError\u001b[0m: 'TreeExplainer' object is not callable"
     ]
    }
   ],
   "source": [
    "import xgboost\n",
    "import shap\n",
    "\n",
    "# train an XGBoost model\n",
    "X, y = shap.datasets.boston()\n",
    "model = xgboost.XGBRegressor().fit(X, y)\n",
    "\n",
    "# explain the model's predictions using SHAP\n",
    "# (same syntax works for LightGBM, CatBoost, scikit-learn, transformers, Spark, etc.)\n",
    "explainer = shap.TreeExplainer(model)\n",
    "shap_values = explainer(X)\n",
    "\n",
    "# visualize the first prediction's explanation\n",
    "shap.plots.waterfall(shap_values[0])"
   ]
  },
  {
   "cell_type": "code",
   "execution_count": null,
   "metadata": {},
   "outputs": [],
   "source": [
    "shap.summary_plot(clf.shap_values_test_)"
   ]
  },
  {
   "cell_type": "code",
   "execution_count": null,
   "metadata": {},
   "outputs": [],
   "source": [
    "shap.initjs()\n",
    "shap.force_plot(base_value=clf.explainer_.expected_value, \n",
    "                shap_values=clf.shap_values_test_,\n",
    "               \n",
    "                link=\"logit\", figsize=(10, 3))"
   ]
  },
  {
   "cell_type": "code",
   "execution_count": null,
   "metadata": {},
   "outputs": [],
   "source": [
    "clf.model_"
   ]
  },
  {
   "cell_type": "code",
   "execution_count": null,
   "metadata": {},
   "outputs": [],
   "source": [
    "shap.waterfall_plot(clf.explainer_.expected_value, shap_values=x)"
   ]
  },
  {
   "cell_type": "code",
   "execution_count": null,
   "metadata": {},
   "outputs": [],
   "source": [
    "shap.waterfall_plot(clf.explainer_.expected_value, clf.shap_values_train_[0], features=clf.X_train_, feature_names=clf.X_train_.columns.tolist())"
   ]
  },
  {
   "cell_type": "code",
   "execution_count": null,
   "metadata": {},
   "outputs": [],
   "source": [
    "import shap\n",
    "shap.summary_plot(shap_values=clf.shap_values_test_, features=clf.X_test_, plot_type=\"layered_violin\", )"
   ]
  },
  {
   "cell_type": "code",
   "execution_count": null,
   "metadata": {},
   "outputs": [],
   "source": []
  },
  {
   "cell_type": "code",
   "execution_count": null,
   "metadata": {},
   "outputs": [],
   "source": []
  },
  {
   "cell_type": "code",
   "execution_count": null,
   "metadata": {},
   "outputs": [],
   "source": []
  }
 ],
 "metadata": {
  "kernelspec": {
   "display_name": "Python 3",
   "language": "python",
   "name": "python3"
  },
  "language_info": {
   "codemirror_mode": {
    "name": "ipython",
    "version": 3
   },
   "file_extension": ".py",
   "mimetype": "text/x-python",
   "name": "python",
   "nbconvert_exporter": "python",
   "pygments_lexer": "ipython3",
   "version": "3.7.6"
  }
 },
 "nbformat": 4,
 "nbformat_minor": 4
}
