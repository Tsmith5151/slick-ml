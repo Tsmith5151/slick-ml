{
 "cells": [
  {
   "cell_type": "markdown",
   "metadata": {},
   "source": [
    "# Example 02: General Use of XGBoostCVClassifier"
   ]
  },
  {
   "cell_type": "markdown",
   "metadata": {},
   "source": [
    "[![Open In Colab](https://colab.research.google.com/assets/colab-badge.svg)](https://colab.research.google.com/github/slickml/slick-ml/blob/master/examples/classification.ipynb)"
   ]
  },
  {
   "cell_type": "markdown",
   "metadata": {},
   "source": [
    "### Google Colab Configuration"
   ]
  },
  {
   "cell_type": "code",
   "execution_count": 1,
   "metadata": {},
   "outputs": [],
   "source": [
    "# !git clone https://github.com/slickml/slick-ml.git\n",
    "# %cd slick-ml\n",
    "# !pip install -r requirements.txt"
   ]
  },
  {
   "cell_type": "markdown",
   "metadata": {},
   "source": [
    "### Local Environment Configuration"
   ]
  },
  {
   "cell_type": "code",
   "execution_count": 2,
   "metadata": {},
   "outputs": [
    {
     "name": "stdout",
     "output_type": "stream",
     "text": [
      "/home/amirhessam/Documents/GitHub/slick-ml\n"
     ]
    }
   ],
   "source": [
    "# Change path to project root\n",
    "%cd ../.."
   ]
  },
  {
   "cell_type": "markdown",
   "metadata": {},
   "source": [
    "### Import Python Libraries"
   ]
  },
  {
   "cell_type": "code",
   "execution_count": 3,
   "metadata": {},
   "outputs": [
    {
     "data": {
      "text/html": [
       "<style>.container { width:95% !important; }</style>"
      ],
      "text/plain": [
       "<IPython.core.display.HTML object>"
      ]
     },
     "metadata": {},
     "output_type": "display_data"
    }
   ],
   "source": [
    "%load_ext autoreload\n",
    "\n",
    "# widen the screen\n",
    "from IPython.core.display import display, HTML\n",
    "display(HTML(\"<style>.container { width:95% !important; }</style>\"))\n",
    "\n",
    "# change the path and loading class\n",
    "import os, sys\n",
    "import pandas as pd\n",
    "import numpy as np\n",
    "import seaborn as sns"
   ]
  },
  {
   "cell_type": "code",
   "execution_count": 4,
   "metadata": {},
   "outputs": [
    {
     "data": {
      "text/html": [
       "<style>.container { width:95% !important; }</style>"
      ],
      "text/plain": [
       "<IPython.core.display.HTML object>"
      ]
     },
     "metadata": {},
     "output_type": "display_data"
    }
   ],
   "source": [
    "%autoreload\n",
    "from slickml.classification import XGBoostCVClassifier"
   ]
  },
  {
   "cell_type": "markdown",
   "metadata": {},
   "source": [
    "-----\n",
    "# XGBoostCVClassifier Docstring"
   ]
  },
  {
   "cell_type": "code",
   "execution_count": 5,
   "metadata": {},
   "outputs": [
    {
     "name": "stdout",
     "output_type": "stream",
     "text": [
      "Help on class XGBoostCVClassifier in module slickml.classification:\n",
      "\n",
      "class XGBoostCVClassifier(XGBoostClassifier)\n",
      " |  XGBoostCVClassifier(num_boost_round=None, n_splits=None, metrics=None, early_stopping_rounds=None, random_state=None, stratified=True, shuffle=True, sparse_matrix=False, scale_mean=False, scale_std=False, importance_type=None, params=None, callbacks=False, verbose=True)\n",
      " |  \n",
      " |  XGBoost CV Classifier.\n",
      " |  This is subclass of XGBoostClassifier to run xgboost.cv()\n",
      " |  model with n-folds cross-validation and train model based on\n",
      " |  the best number of boosting round to avoid over-fitting. This\n",
      " |  function is pretty useful when feature selection is done and you\n",
      " |  want to train a model on the whole data and test on a separate\n",
      " |  validation set. In this case, cross-validation part on the train\n",
      " |  set decrease the possibility of over-fitting.\n",
      " |  run xgboost.train(). Main reference is XGBoost Python API:\n",
      " |  (https://xgboost.readthedocs.io/en/latest/python/python_api.html)\n",
      " |  \n",
      " |  Parameters\n",
      " |  ----------\n",
      " |  num_boost_round: int, optional (default=200)\n",
      " |      Number of boosting round at each fold of xgboost.cv()\n",
      " |  \n",
      " |  n_splits: int, optional (default=4)\n",
      " |      Number of folds for cross-validation\n",
      " |  \n",
      " |  metrics: str or tuple[str], optional (default=(\"auc\"))\n",
      " |      Metric used for evaluation at cross-validation\n",
      " |      using xgboost.cv(). Please note that this is different\n",
      " |      than eval_metric that needs to be passed to params dict.\n",
      " |      Possible values are \"auc\", \"aucpr\", \"error\", \"logloss\"\n",
      " |  \n",
      " |  early_stopping_rounds: int, optional (default=20)\n",
      " |      The criterion to early abort the xgboost.cv() phase\n",
      " |      if the test metric is not improved\n",
      " |  \n",
      " |  random_state: int, optional (default=1367)\n",
      " |      Random seed\n",
      " |  \n",
      " |  stratified: bool, optional (default=True)\n",
      " |      Flag to stratificaiton of the targets to run xgboost.cv() to\n",
      " |      find the best number of boosting round at each fold of\n",
      " |      each iteration\n",
      " |  \n",
      " |  shuffle: bool, optional (default=True)\n",
      " |      Flag to shuffle data to have the ability of building\n",
      " |      stratified folds in xgboost.cv()\n",
      " |  \n",
      " |  sparse_matrix: bool, optional (default=False)\n",
      " |      Flag to convert data to sparse matrix with csr format.\n",
      " |      This would increase the speed of feature selection for\n",
      " |      relatively large datasets\n",
      " |  \n",
      " |  scale_mean: bool, optional (default=False)\n",
      " |      Flag to center the data before scaling. This flag should be\n",
      " |      False when using sparse_matrix=True, since it centering the data\n",
      " |      would decrease the sparsity and in practice it does not make any\n",
      " |      sense to use sparse matrix method and it would make it worse.\n",
      " |  \n",
      " |  scale_std: bool, optional (default=False)\n",
      " |      Flag to scale the data to unit variance\n",
      " |      (or equivalently, unit standard deviation)\n",
      " |  \n",
      " |  importance_type: str, optional (default=\"total_gain\")\n",
      " |      Importance type of xgboost.train() with possible values\n",
      " |      \"weight\", \"gain\", \"total_gain\", \"cover\", \"total_cover\"\n",
      " |  \n",
      " |  params: dict, optional\n",
      " |      Set of parameters for evaluation of xboost.train()\n",
      " |      (default={\"eval_metric\" : \"auc\",\n",
      " |                \"tree_method\": \"hist\",\n",
      " |                \"objective\" : \"binary:logistic\",\n",
      " |                \"learning_rate\" : 0.05,\n",
      " |                \"max_depth\": 2,\n",
      " |                \"min_child_weight\" : 1,\n",
      " |                \"gamma\" : 0.0,\n",
      " |                \"reg_alpha\" : 0.0,\n",
      " |                \"reg_lambda\" : 1.0,\n",
      " |                \"subsample\" : 0.9,\n",
      " |                \"max_delta_step\": 1,\n",
      " |                \"verbosity\" : 0,\n",
      " |                \"nthread\" : 4,\n",
      " |                \"scale_pos_weight\" : 1})\n",
      " |  \n",
      " |  callbacks: bool, optional (default=False)\n",
      " |      Flag for printing results during xgboost.cv().\n",
      " |      This would help to track the early stopping criterion\n",
      " |  \n",
      " |  verbose: bool, optional (default=False)\n",
      " |      Flag to show the final results of xgboost.cv()\n",
      " |  \n",
      " |  Attributes\n",
      " |  ----------\n",
      " |  feature_importance_: dict()\n",
      " |      Returns a dict() of all feature importance based on\n",
      " |      importance_type at each fold of each iteration during\n",
      " |      selection process\n",
      " |  \n",
      " |  feature_frequency_: Pandas DataFrame()\n",
      " |      Returns a DataFrame() cosists of total frequency of\n",
      " |      each feature during the selection process\n",
      " |  \n",
      " |  cv_results_: Pandas DataFrame()\n",
      " |      Return a Pandas DataFrame() of the mean value of the metrics\n",
      " |  \n",
      " |      n n-folds cross-validation for each boosting round\n",
      " |  scaler_: StandardScaler object\n",
      " |      Returns the scaler object if any of scale_mean or scale_std\n",
      " |      was passed True.\n",
      " |  \n",
      " |  X_train_: Pandas DataFrame()\n",
      " |      Returns scaled training data set that passed if if any of\n",
      " |      scale_mean or scale_std was passed as True, else X_train.\n",
      " |  \n",
      " |  X_test_: Pandas DataFrame()\n",
      " |      Returns transformed testing data set using scaler_ object if if any of\n",
      " |      scale_mean or scale_std was passed as True, else X_train.\n",
      " |  \n",
      " |  d_train_: xgboost.DMatrix object\n",
      " |      Returns the xgboost.DMatrix(X_train_, y_train)\n",
      " |  \n",
      " |  d_test_: xgboost.DMatrix object\n",
      " |      Returns the xgboost.DMatrix(X_test_, y_test)\n",
      " |  \n",
      " |  shap_values_train_: Numpy array\n",
      " |      SHAP values from treeExplainer using X_train\n",
      " |  \n",
      " |  shap_values_test_: Numpy array\n",
      " |      SHAP values from treeExplainer using X_test\n",
      " |  \n",
      " |  fit(X_train, y_train): instance method\n",
      " |      Returns None and applies the training process using\n",
      " |      the (X_train, y_train) set using xgboost.cv() and xgboost.train()\n",
      " |  \n",
      " |  predict_proba(X_test, y_test): instance method\n",
      " |      Return the prediction probabilities for positive classes. Please note that\n",
      " |      it only reports the probability of the positive class, while the sklearn\n",
      " |      one returns for both and slicing like pred_proba[:, 1]\n",
      " |      is needed for positive class predictions\n",
      " |  \n",
      " |  predict(X_test, y_test, threshold=0.5): instance method\n",
      " |      Return the prediction classes based on the passed threshold.\n",
      " |      The default threshold is set at 0.5 while you can find the optimum thresholds\n",
      " |      based on different methods using BinaryClassificationMetrics.\n",
      " |  \n",
      " |  get_params(): instance method\n",
      " |      Returns params dict\n",
      " |  \n",
      " |  get_feature_importance(): instance method\n",
      " |      Returns feature importance based on importance_type\n",
      " |      at each fold of each iteration of the selection process\n",
      " |  \n",
      " |  get_cv_results(): instance method\n",
      " |      Return a Pandas DataFrame() of the mean value of the metrics\n",
      " |      in n-folds cross-validation for each boosting round\n",
      " |  \n",
      " |  plot_cv_results(): instance method\n",
      " |      Plot cross-validation results\n",
      " |  \n",
      " |  plot_feature_importance(): instance method\n",
      " |      Plots feature importance\n",
      " |  \n",
      " |  plot_shap_summary(): instance method\n",
      " |      Plot shap values summary\n",
      " |  \n",
      " |  Method resolution order:\n",
      " |      XGBoostCVClassifier\n",
      " |      XGBoostClassifier\n",
      " |      builtins.object\n",
      " |  \n",
      " |  Methods defined here:\n",
      " |  \n",
      " |  __init__(self, num_boost_round=None, n_splits=None, metrics=None, early_stopping_rounds=None, random_state=None, stratified=True, shuffle=True, sparse_matrix=False, scale_mean=False, scale_std=False, importance_type=None, params=None, callbacks=False, verbose=True)\n",
      " |      Initialize self.  See help(type(self)) for accurate signature.\n",
      " |  \n",
      " |  fit(self, X_train, y_train)\n",
      " |      Function to run xgboost.cv() method first to find the best number of boosting round\n",
      " |      and train a model based on that on (X_train, y_train) set and returns it.\n",
      " |      \n",
      " |      Parameters\n",
      " |      ----------\n",
      " |      X_train: numpy.array or pandas.DataFrame\n",
      " |          Training features data\n",
      " |      \n",
      " |      y_train: numpy.array[int] or list[int]\n",
      " |          List of training ground truth binary values [0, 1]\n",
      " |  \n",
      " |  get_cv_results(self)\n",
      " |      Function to return both internal and external cross-validation\n",
      " |      results as Pandas DataFrame().\n",
      " |  \n",
      " |  plot_cv_results(self, figsize=None, linestyle=None, train_label=None, test_label=None, train_color=None, train_std_color=None, test_color=None, test_std_color=None, save_path=None)\n",
      " |      Function to plot the results of xgboost.cv() process and evolution\n",
      " |      of metrics through number of boosting rounds.\n",
      " |      \n",
      " |      Parameters\n",
      " |      ----------\n",
      " |      cv_results: Pandas DataFrame()\n",
      " |          Cross-validation results in DataFrame() format\n",
      " |      \n",
      " |      figsize: tuple, optional, (default=(8, 5))\n",
      " |          Figure size\n",
      " |      \n",
      " |      linestyle: str, optional, (default=\"--\")\n",
      " |          Style of lines. Complete options are available at\n",
      " |          (https://matplotlib.org/3.1.0/gallery/lines_bars_and_markers/linestyles.html)\n",
      " |      \n",
      " |      train_label: str, optional (default=\"Train\")\n",
      " |          Label in the figure legend for the training line\n",
      " |      \n",
      " |      test_label: str, optional (default=\"Test\")\n",
      " |          Label in the figure legend for the training line\n",
      " |      \n",
      " |      train_color: str, optional, (default=\"navy\")\n",
      " |          Color of the training line\n",
      " |      \n",
      " |      train_std_color: str, optional, (default=\"#B3C3F3\")\n",
      " |          Color of the edge color of the training std bars\n",
      " |      \n",
      " |      test_color: str, optional, (default=\"purple\")\n",
      " |          Color of the testing line\n",
      " |      \n",
      " |      test_std_color: str, optional, (default=\"#D0AAF3\")\n",
      " |          Color of the edge color of the testing std bars\n",
      " |      \n",
      " |      save_path: str, optional (default=None)\n",
      " |          The full or relative path to save the plot including the image format.\n",
      " |          For example \"myplot.png\" or \"../../myplot.pdf\"\n",
      " |  \n",
      " |  ----------------------------------------------------------------------\n",
      " |  Methods inherited from XGBoostClassifier:\n",
      " |  \n",
      " |  get_feature_importance(self)\n",
      " |      Function to return the feature importance of the best model\n",
      " |      at each fold of each iteration of feature selection.\n",
      " |  \n",
      " |  get_params(self)\n",
      " |      Function to return the train parameters for XGBoost.\n",
      " |  \n",
      " |  plot_feature_importance(self, figsize=None, color=None, marker=None, markersize=None, markeredgecolor=None, markerfacecolor=None, markeredgewidth=None, fontsize=None, save_path=None)\n",
      " |      Function to plot XGBoost feature importance.\n",
      " |      This function is a helper function based on the feature_importance_\n",
      " |      attribute of the XGBoostCVClassifier class.\n",
      " |      \n",
      " |      Parameters\n",
      " |      ----------\n",
      " |      feature importance: Pandas DataFrame\n",
      " |          Feature frequency\n",
      " |      \n",
      " |      figsize: tuple, optional, (default=(8, 5))\n",
      " |          Figure size\n",
      " |      \n",
      " |      color: str, optional, (default=\"#87CEEB\")\n",
      " |          Color of the vertical lines of lollipops\n",
      " |      \n",
      " |      marker: str, optional, (default=\"o\")\n",
      " |          Market style of the lollipops. Complete valid\n",
      " |          marker styke can be found at:\n",
      " |          (https://matplotlib.org/2.1.1/api/markers_api.html#module-matplotlib.markers)\n",
      " |      \n",
      " |      markersize: int or float, optional, (default=10)\n",
      " |          Markersize\n",
      " |      \n",
      " |      markeredgecolor: str, optional, (default=\"1F77B4\")\n",
      " |          Marker edge color\n",
      " |      \n",
      " |      markerfacecolor: str, optional, (default=\"1F77B4\")\n",
      " |          Marker face color\n",
      " |      \n",
      " |      markeredgewidth: int or float, optional, (default=1)\n",
      " |          Marker edge width\n",
      " |      \n",
      " |      fontsize: int or float, optional, (default=12)\n",
      " |          Fontsize for xlabel and ylabel, and ticks parameters\n",
      " |      \n",
      " |      save_path: str, optional (default=None)\n",
      " |          The full or relative path to save the plot including the image format.\n",
      " |          For example \"myplot.png\" or \"../../myplot.pdf\"\n",
      " |  \n",
      " |  plot_shap_summary(self, validation=True, plot_type=None, figsize=None, color=None, max_display=None, feature_names=None, title=None, show=True, sort=True, color_bar=True, layered_violin_max_num_bins=None, class_names=None, class_inds=None, color_bar_label=None, save_path=None)\n",
      " |      Function to plot shap summary plot.\n",
      " |      This function is a helper function to plot the shap summary plot\n",
      " |      based on all types of shap explainers including tree, linear, and dnn.\n",
      " |      Please note that this function should be ran after the predict_proba to\n",
      " |      make sure the X_test is being instansiated.\n",
      " |      \n",
      " |      Parameters\n",
      " |      ----------\n",
      " |      validation: bool, optional, (default=True)\n",
      " |          Flag to calculate SHAP values of X_test if it is True.\n",
      " |          If validation=False, it calculates the SHAP values of\n",
      " |          X_train and plots the summary plot.\n",
      " |      \n",
      " |      plot_type: str, optional (single-output default=\"dot\", multi-output default=\"bar\")\n",
      " |          The type of summar plot. Options are \"bar\", \"dot\", \"violin\", \"layered_violin\",\n",
      " |          and \"compact_dot\" which is recommended for SHAP interactions\n",
      " |      \n",
      " |      figsize: tuple, optional, (default=\"auto\")\n",
      " |          Figure size\n",
      " |      \n",
      " |      color: str, optional, (default= \"#D0AAF3\" for \"bar\")\n",
      " |          Color of violin and layered violin plots are \"RdBl\" cmap\n",
      " |          Color of the horizontal lines when plot_type=\"bar\" is \"#D0AAF3\"\n",
      " |      \n",
      " |      max_display: int, optional, (default=20)\n",
      " |          Limit to show the number of features in the plot\n",
      " |      \n",
      " |      feature_names: str, optional, (default=None)\n",
      " |          List of feature names to pass. It should follow the order\n",
      " |          of fatures\n",
      " |      \n",
      " |      title: str, optional, (default=None)\n",
      " |          Title of the plot\n",
      " |      \n",
      " |      show: bool, optional, (default=True)\n",
      " |          Flag to show the plot in inteactive environment\n",
      " |      \n",
      " |      sort: bool, optional, (default=True)\n",
      " |          Flag to plot sorted shap vlues in descending order\n",
      " |      \n",
      " |      color_bar: bool, optional, (default=True)\n",
      " |          Flag to show color_bar when plot_type is \"dot\" or \"violin\"\n",
      " |      \n",
      " |      layered_violin_max_num_bins: int, optional, (default=10)\n",
      " |          The number of bins for calculating the violin plots ranges\n",
      " |          and outliers\n",
      " |      \n",
      " |      class_names: list, optional, (default=None)\n",
      " |          List of class names for multi-output problems\n",
      " |      \n",
      " |      class_inds: list, optional, (default=True)\n",
      " |          List of class indices for multi-output problems\n",
      " |      \n",
      " |      color_bar_label: str, optional, (default=\"Feature Value\")\n",
      " |          Label for color bar\n",
      " |      \n",
      " |      save_path: str, optional (default=None)\n",
      " |          The full or relative path to save the plot including the image format.\n",
      " |          For example \"myplot.png\" or \"../../myplot.pdf\"\n",
      " |  \n",
      " |  plot_shap_waterfall(self, validation=True, figsize=None, bar_color=None, bar_thickness=None, line_color=None, marker=None, markersize=None, markeredgecolor=None, markerfacecolor=None, markeredgewidth=None, max_display=None, title=None, fontsize=None, save_path=None)\n",
      " |      Function to plot shap waterfall plot.\n",
      " |      This function is a helper function to plot the shap waterfall plot\n",
      " |      based on all types of shap explainers including tree, linear, and dnn.\n",
      " |      This would show the cumulitative/composite ratios of shap values per feature.\n",
      " |      Therefore, it can be easily seen with each feature how much explainability we\n",
      " |      can acheieve. Please note that this function should be ran after the predict_proba to\n",
      " |      make sure the X_test is being instansiated.\n",
      " |      \n",
      " |      Parameters\n",
      " |      ----------\n",
      " |      validation: bool, optional, (default=True)\n",
      " |          Flag to calculate SHAP values of X_test if it is True.\n",
      " |          If validation=False, it calculates the SHAP values of\n",
      " |          X_train and plots the summary plot.\n",
      " |      \n",
      " |      figsize: tuple, optional, (default=(8, 5))\n",
      " |          Figure size\n",
      " |      \n",
      " |      bar_color: str, optional, (default=\"#B3C3F3\")\n",
      " |          Color of the horizontal bar lines\n",
      " |      \n",
      " |      bar_thickness: float, optional, (default=0.5)\n",
      " |          Thickness (hight) of the horizontal bar lines\n",
      " |      \n",
      " |      line_color: str, optional, (default=\"purple\")\n",
      " |          Color of the line plot\n",
      " |      \n",
      " |      marker: str, optional, (default=\"o\")\n",
      " |          Marker style\n",
      " |          marker style can be found at:\n",
      " |          (https://matplotlib.org/2.1.1/api/markers_api.html#module-matplotlib.markers)\n",
      " |      \n",
      " |      markersize: int or float, optional, (default=7)\n",
      " |          Markersize\n",
      " |      \n",
      " |      markeredgecolor: str, optional, (default=\"purple\")\n",
      " |          Marker edge color\n",
      " |      \n",
      " |      markerfacecolor: str, optional, (default=\"purple\")\n",
      " |          Marker face color\n",
      " |      \n",
      " |      markeredgewidth: int or float, optional, (default=1)\n",
      " |          Marker edge width\n",
      " |      \n",
      " |      max_display: int, optional, (default=20)\n",
      " |          Limit to show the number of features in the plot\n",
      " |      \n",
      " |      title: str, optional, (default=None)\n",
      " |          Title of the plot\n",
      " |      \n",
      " |      fontsize: int or float, optional, (default=12)\n",
      " |          Fontsize for xlabel and ylabel, and ticks parameters\n",
      " |      \n",
      " |      save_path: str, optional (default=None)\n",
      " |          The full or relative path to save the plot including the image format.\n",
      " |          For example \"myplot.png\" or \"../../myplot.pdf\"\n",
      " |  \n",
      " |  predict(self, X_test, y_test=None, threshold=0.5)\n",
      " |      Function to return the prediction classes based on the passed threshold.\n",
      " |      The default threshold is set at 0.5 while you can find the optimum thresholds\n",
      " |      based on different methods using BinaryClassificationMetrics.\n",
      " |      \n",
      " |      Parameters\n",
      " |      ----------\n",
      " |      X_test: numpy.array or pandas.DataFrame\n",
      " |          Validation features data\n",
      " |      \n",
      " |      y_test: numpy.array[int] or list[int], optional (default=None)\n",
      " |          List of validation ground truth binary values [0, 1]\n",
      " |      \n",
      " |      threshold: float, optional (default=0.5)\n",
      " |          Threshold to define classes based on probabilities.\n",
      " |          predict_proba >= threshold would be defined as 1 else 0.\n",
      " |  \n",
      " |  predict_proba(self, X_test, y_test=None)\n",
      " |      Function to return the prediction probabilities for both classes.\n",
      " |      Please note that it only reports the probability of the positive class,\n",
      " |      while the sklearn one returns for both and slicing like pred_proba[:, 1]\n",
      " |      is needed for positive class predictions. Note that y_test is optional while\n",
      " |      it might not be available in validiation.\n",
      " |      \n",
      " |      Parameters\n",
      " |      ----------\n",
      " |      X_test: numpy.array or pandas.DataFrame\n",
      " |          Validation features data\n",
      " |      \n",
      " |      y_test: numpy.array[int] or list[int], optional (default=None)\n",
      " |          List of validation ground truth binary values [0, 1]\n",
      " |  \n",
      " |  ----------------------------------------------------------------------\n",
      " |  Data descriptors inherited from XGBoostClassifier:\n",
      " |  \n",
      " |  __dict__\n",
      " |      dictionary for instance variables (if defined)\n",
      " |  \n",
      " |  __weakref__\n",
      " |      list of weak references to the object (if defined)\n",
      "\n"
     ]
    }
   ],
   "source": [
    "help(XGBoostCVClassifier)"
   ]
  },
  {
   "cell_type": "markdown",
   "metadata": {},
   "source": [
    "## Example"
   ]
  },
  {
   "cell_type": "code",
   "execution_count": 6,
   "metadata": {},
   "outputs": [
    {
     "data": {
      "text/html": [
       "<div>\n",
       "<style scoped>\n",
       "    .dataframe tbody tr th:only-of-type {\n",
       "        vertical-align: middle;\n",
       "    }\n",
       "\n",
       "    .dataframe tbody tr th {\n",
       "        vertical-align: top;\n",
       "    }\n",
       "\n",
       "    .dataframe thead th {\n",
       "        text-align: right;\n",
       "    }\n",
       "</style>\n",
       "<table border=\"1\" class=\"dataframe\">\n",
       "  <thead>\n",
       "    <tr style=\"text-align: right;\">\n",
       "      <th></th>\n",
       "      <th>F1</th>\n",
       "      <th>F2</th>\n",
       "      <th>F3</th>\n",
       "      <th>F4</th>\n",
       "      <th>F5</th>\n",
       "      <th>F6</th>\n",
       "      <th>CLASS</th>\n",
       "    </tr>\n",
       "  </thead>\n",
       "  <tbody>\n",
       "    <tr>\n",
       "      <th>0</th>\n",
       "      <td>5.7</td>\n",
       "      <td>4.7</td>\n",
       "      <td>3.7</td>\n",
       "      <td>58.0</td>\n",
       "      <td>249.30</td>\n",
       "      <td>456.47</td>\n",
       "      <td>0</td>\n",
       "    </tr>\n",
       "    <tr>\n",
       "      <th>1</th>\n",
       "      <td>7.7</td>\n",
       "      <td>6.6</td>\n",
       "      <td>4.1</td>\n",
       "      <td>20.0</td>\n",
       "      <td>260.92</td>\n",
       "      <td>443.43</td>\n",
       "      <td>1</td>\n",
       "    </tr>\n",
       "    <tr>\n",
       "      <th>2</th>\n",
       "      <td>6.2</td>\n",
       "      <td>4.3</td>\n",
       "      <td>4.6</td>\n",
       "      <td>59.0</td>\n",
       "      <td>255.63</td>\n",
       "      <td>478.96</td>\n",
       "      <td>1</td>\n",
       "    </tr>\n",
       "    <tr>\n",
       "      <th>3</th>\n",
       "      <td>5.7</td>\n",
       "      <td>4.4</td>\n",
       "      <td>3.8</td>\n",
       "      <td>49.0</td>\n",
       "      <td>195.28</td>\n",
       "      <td>381.94</td>\n",
       "      <td>0</td>\n",
       "    </tr>\n",
       "    <tr>\n",
       "      <th>4</th>\n",
       "      <td>9.1</td>\n",
       "      <td>4.7</td>\n",
       "      <td>4.6</td>\n",
       "      <td>17.0</td>\n",
       "      <td>259.55</td>\n",
       "      <td>395.67</td>\n",
       "      <td>1</td>\n",
       "    </tr>\n",
       "  </tbody>\n",
       "</table>\n",
       "</div>"
      ],
      "text/plain": [
       "    F1   F2   F3    F4      F5      F6  CLASS\n",
       "0  5.7  4.7  3.7  58.0  249.30  456.47      0\n",
       "1  7.7  6.6  4.1  20.0  260.92  443.43      1\n",
       "2  6.2  4.3  4.6  59.0  255.63  478.96      1\n",
       "3  5.7  4.4  3.8  49.0  195.28  381.94      0\n",
       "4  9.1  4.7  4.6  17.0  259.55  395.67      1"
      ]
     },
     "execution_count": 6,
     "metadata": {},
     "output_type": "execute_result"
    }
   ],
   "source": [
    "# loading data\n",
    "df = pd.read_csv(\"data/clf_data.csv\")\n",
    "df.head()"
   ]
  },
  {
   "cell_type": "code",
   "execution_count": 7,
   "metadata": {},
   "outputs": [],
   "source": [
    "# define X, y\n",
    "y = df.CLASS.values\n",
    "X = df.drop([\"CLASS\"], axis=1)"
   ]
  },
  {
   "cell_type": "code",
   "execution_count": 8,
   "metadata": {},
   "outputs": [],
   "source": [
    "from sklearn.model_selection import train_test_split\n",
    "X_train, X_test, y_train, y_test = train_test_split(X, y,\n",
    "                                                    test_size=0.2,\n",
    "                                                    shuffle=True,\n",
    "                                                    stratify=y,\n",
    "                                                    random_state=1367)"
   ]
  },
  {
   "cell_type": "code",
   "execution_count": 24,
   "metadata": {},
   "outputs": [
    {
     "name": "stdout",
     "output_type": "stream",
     "text": [
      "[0]\ttrain-logloss:0.67574+0.00105\ttest-logloss:0.67692+0.00089\n",
      "Multiple eval metrics have been passed: 'test-logloss' will be used for early stopping.\n",
      "\n",
      "Will train until test-logloss hasn't improved in 20 rounds.\n",
      "[1]\ttrain-logloss:0.65836+0.00108\ttest-logloss:0.66033+0.00106\n",
      "[2]\ttrain-logloss:0.64180+0.00173\ttest-logloss:0.64486+0.00156\n",
      "[3]\ttrain-logloss:0.62629+0.00266\ttest-logloss:0.63071+0.00240\n",
      "[4]\ttrain-logloss:0.61075+0.00276\ttest-logloss:0.61588+0.00247\n",
      "[5]\ttrain-logloss:0.59565+0.00304\ttest-logloss:0.60142+0.00252\n",
      "[6]\ttrain-logloss:0.58136+0.00362\ttest-logloss:0.58756+0.00325\n",
      "[7]\ttrain-logloss:0.56721+0.00361\ttest-logloss:0.57390+0.00393\n",
      "[8]\ttrain-logloss:0.55437+0.00420\ttest-logloss:0.56174+0.00420\n",
      "[9]\ttrain-logloss:0.54177+0.00438\ttest-logloss:0.54971+0.00461\n",
      "[10]\ttrain-logloss:0.52957+0.00410\ttest-logloss:0.53816+0.00526\n",
      "[11]\ttrain-logloss:0.51830+0.00464\ttest-logloss:0.52761+0.00625\n",
      "[12]\ttrain-logloss:0.50771+0.00562\ttest-logloss:0.51847+0.00618\n",
      "[13]\ttrain-logloss:0.49791+0.00627\ttest-logloss:0.50990+0.00579\n",
      "[14]\ttrain-logloss:0.48772+0.00646\ttest-logloss:0.50038+0.00618\n",
      "[15]\ttrain-logloss:0.47861+0.00735\ttest-logloss:0.49253+0.00584\n",
      "[16]\ttrain-logloss:0.46948+0.00698\ttest-logloss:0.48370+0.00703\n",
      "[17]\ttrain-logloss:0.46064+0.00680\ttest-logloss:0.47554+0.00772\n",
      "[18]\ttrain-logloss:0.45290+0.00760\ttest-logloss:0.46936+0.00748\n",
      "[19]\ttrain-logloss:0.44463+0.00769\ttest-logloss:0.46175+0.00805\n",
      "[20]\ttrain-logloss:0.43834+0.00788\ttest-logloss:0.45641+0.00799\n",
      "[21]\ttrain-logloss:0.43163+0.00856\ttest-logloss:0.45123+0.00795\n",
      "[22]\ttrain-logloss:0.42562+0.00835\ttest-logloss:0.44580+0.00860\n",
      "[23]\ttrain-logloss:0.41986+0.00821\ttest-logloss:0.44049+0.00866\n",
      "[24]\ttrain-logloss:0.41440+0.00824\ttest-logloss:0.43580+0.00884\n",
      "[25]\ttrain-logloss:0.40844+0.00826\ttest-logloss:0.43074+0.00943\n",
      "[26]\ttrain-logloss:0.40367+0.00845\ttest-logloss:0.42697+0.00964\n",
      "[27]\ttrain-logloss:0.39870+0.00861\ttest-logloss:0.42303+0.00978\n",
      "[28]\ttrain-logloss:0.39389+0.00839\ttest-logloss:0.41871+0.01003\n",
      "[29]\ttrain-logloss:0.38975+0.00856\ttest-logloss:0.41545+0.01001\n",
      "[30]\ttrain-logloss:0.38551+0.00833\ttest-logloss:0.41172+0.01014\n",
      "[31]\ttrain-logloss:0.38175+0.00837\ttest-logloss:0.40865+0.00949\n",
      "[32]\ttrain-logloss:0.37804+0.00850\ttest-logloss:0.40568+0.00929\n",
      "[33]\ttrain-logloss:0.37452+0.00828\ttest-logloss:0.40301+0.00948\n",
      "[34]\ttrain-logloss:0.37111+0.00836\ttest-logloss:0.40035+0.00923\n",
      "[35]\ttrain-logloss:0.36787+0.00831\ttest-logloss:0.39748+0.00963\n",
      "[36]\ttrain-logloss:0.36487+0.00833\ttest-logloss:0.39481+0.00957\n",
      "[37]\ttrain-logloss:0.36172+0.00816\ttest-logloss:0.39234+0.00999\n",
      "[38]\ttrain-logloss:0.35869+0.00829\ttest-logloss:0.39017+0.01042\n",
      "[39]\ttrain-logloss:0.35597+0.00819\ttest-logloss:0.38782+0.01035\n",
      "[40]\ttrain-logloss:0.35326+0.00819\ttest-logloss:0.38550+0.01057\n",
      "[41]\ttrain-logloss:0.35071+0.00806\ttest-logloss:0.38307+0.01098\n",
      "[42]\ttrain-logloss:0.34814+0.00818\ttest-logloss:0.38120+0.01159\n",
      "[43]\ttrain-logloss:0.34557+0.00801\ttest-logloss:0.37897+0.01154\n",
      "[44]\ttrain-logloss:0.34325+0.00796\ttest-logloss:0.37656+0.01178\n",
      "[45]\ttrain-logloss:0.34092+0.00794\ttest-logloss:0.37471+0.01242\n",
      "[46]\ttrain-logloss:0.33892+0.00797\ttest-logloss:0.37275+0.01228\n",
      "[47]\ttrain-logloss:0.33652+0.00795\ttest-logloss:0.37134+0.01240\n",
      "[48]\ttrain-logloss:0.33458+0.00796\ttest-logloss:0.37013+0.01227\n",
      "[49]\ttrain-logloss:0.33251+0.00800\ttest-logloss:0.36901+0.01251\n",
      "[50]\ttrain-logloss:0.33066+0.00798\ttest-logloss:0.36752+0.01244\n",
      "[51]\ttrain-logloss:0.32887+0.00801\ttest-logloss:0.36605+0.01268\n",
      "[52]\ttrain-logloss:0.32711+0.00806\ttest-logloss:0.36507+0.01259\n",
      "[53]\ttrain-logloss:0.32550+0.00798\ttest-logloss:0.36350+0.01270\n",
      "[54]\ttrain-logloss:0.32389+0.00807\ttest-logloss:0.36207+0.01283\n",
      "[55]\ttrain-logloss:0.32222+0.00803\ttest-logloss:0.36119+0.01289\n",
      "[56]\ttrain-logloss:0.32065+0.00801\ttest-logloss:0.36032+0.01288\n",
      "[57]\ttrain-logloss:0.31905+0.00793\ttest-logloss:0.35956+0.01314\n",
      "[58]\ttrain-logloss:0.31749+0.00792\ttest-logloss:0.35858+0.01347\n",
      "[59]\ttrain-logloss:0.31611+0.00793\ttest-logloss:0.35773+0.01399\n",
      "[60]\ttrain-logloss:0.31466+0.00788\ttest-logloss:0.35651+0.01355\n",
      "[61]\ttrain-logloss:0.31336+0.00786\ttest-logloss:0.35598+0.01357\n",
      "[62]\ttrain-logloss:0.31209+0.00779\ttest-logloss:0.35476+0.01372\n",
      "[63]\ttrain-logloss:0.31071+0.00773\ttest-logloss:0.35393+0.01350\n",
      "[64]\ttrain-logloss:0.30947+0.00782\ttest-logloss:0.35332+0.01398\n",
      "[65]\ttrain-logloss:0.30813+0.00790\ttest-logloss:0.35241+0.01419\n",
      "[66]\ttrain-logloss:0.30682+0.00782\ttest-logloss:0.35106+0.01409\n",
      "[67]\ttrain-logloss:0.30575+0.00777\ttest-logloss:0.34968+0.01426\n",
      "[68]\ttrain-logloss:0.30442+0.00785\ttest-logloss:0.34875+0.01443\n",
      "[69]\ttrain-logloss:0.30315+0.00770\ttest-logloss:0.34808+0.01460\n",
      "[70]\ttrain-logloss:0.30200+0.00785\ttest-logloss:0.34735+0.01439\n",
      "[71]\ttrain-logloss:0.30086+0.00793\ttest-logloss:0.34680+0.01469\n",
      "[72]\ttrain-logloss:0.29981+0.00791\ttest-logloss:0.34623+0.01451\n",
      "[73]\ttrain-logloss:0.29868+0.00791\ttest-logloss:0.34565+0.01451\n",
      "[74]\ttrain-logloss:0.29764+0.00815\ttest-logloss:0.34496+0.01511\n",
      "[75]\ttrain-logloss:0.29663+0.00807\ttest-logloss:0.34432+0.01572\n",
      "[76]\ttrain-logloss:0.29558+0.00813\ttest-logloss:0.34345+0.01591\n",
      "[77]\ttrain-logloss:0.29471+0.00809\ttest-logloss:0.34306+0.01593\n",
      "[78]\ttrain-logloss:0.29376+0.00808\ttest-logloss:0.34255+0.01558\n",
      "[79]\ttrain-logloss:0.29260+0.00785\ttest-logloss:0.34194+0.01585\n",
      "[80]\ttrain-logloss:0.29164+0.00773\ttest-logloss:0.34144+0.01577\n",
      "[81]\ttrain-logloss:0.29079+0.00775\ttest-logloss:0.34086+0.01566\n",
      "[82]\ttrain-logloss:0.28973+0.00759\ttest-logloss:0.33993+0.01577\n",
      "[83]\ttrain-logloss:0.28881+0.00779\ttest-logloss:0.33958+0.01605\n",
      "[84]\ttrain-logloss:0.28795+0.00788\ttest-logloss:0.33952+0.01630\n",
      "[85]\ttrain-logloss:0.28714+0.00800\ttest-logloss:0.33917+0.01637\n",
      "[86]\ttrain-logloss:0.28626+0.00790\ttest-logloss:0.33833+0.01657\n",
      "[87]\ttrain-logloss:0.28521+0.00779\ttest-logloss:0.33770+0.01698\n",
      "[88]\ttrain-logloss:0.28438+0.00777\ttest-logloss:0.33730+0.01699\n",
      "[89]\ttrain-logloss:0.28363+0.00784\ttest-logloss:0.33690+0.01717\n",
      "[90]\ttrain-logloss:0.28276+0.00787\ttest-logloss:0.33626+0.01755\n",
      "[91]\ttrain-logloss:0.28205+0.00795\ttest-logloss:0.33581+0.01739\n",
      "[92]\ttrain-logloss:0.28127+0.00810\ttest-logloss:0.33554+0.01799\n",
      "[93]\ttrain-logloss:0.28048+0.00806\ttest-logloss:0.33478+0.01785\n",
      "[94]\ttrain-logloss:0.27952+0.00791\ttest-logloss:0.33394+0.01813\n",
      "[95]\ttrain-logloss:0.27871+0.00787\ttest-logloss:0.33374+0.01832\n",
      "[96]\ttrain-logloss:0.27798+0.00777\ttest-logloss:0.33309+0.01829\n",
      "[97]\ttrain-logloss:0.27727+0.00771\ttest-logloss:0.33292+0.01828\n",
      "[98]\ttrain-logloss:0.27662+0.00777\ttest-logloss:0.33259+0.01815\n",
      "[99]\ttrain-logloss:0.27598+0.00773\ttest-logloss:0.33215+0.01794\n",
      "[100]\ttrain-logloss:0.27514+0.00754\ttest-logloss:0.33184+0.01814\n",
      "[101]\ttrain-logloss:0.27446+0.00744\ttest-logloss:0.33150+0.01804\n",
      "[102]\ttrain-logloss:0.27372+0.00752\ttest-logloss:0.33109+0.01793\n",
      "[103]\ttrain-logloss:0.27301+0.00744\ttest-logloss:0.33099+0.01786\n",
      "[104]\ttrain-logloss:0.27239+0.00740\ttest-logloss:0.33049+0.01842\n",
      "[105]\ttrain-logloss:0.27166+0.00733\ttest-logloss:0.33003+0.01866\n",
      "[106]\ttrain-logloss:0.27092+0.00738\ttest-logloss:0.32959+0.01854\n",
      "[107]\ttrain-logloss:0.27031+0.00744\ttest-logloss:0.32914+0.01849\n",
      "[108]\ttrain-logloss:0.26974+0.00746\ttest-logloss:0.32884+0.01863\n",
      "[109]\ttrain-logloss:0.26914+0.00745\ttest-logloss:0.32826+0.01878\n",
      "[110]\ttrain-logloss:0.26855+0.00743\ttest-logloss:0.32791+0.01878\n",
      "[111]\ttrain-logloss:0.26793+0.00740\ttest-logloss:0.32746+0.01852\n",
      "[112]\ttrain-logloss:0.26724+0.00750\ttest-logloss:0.32749+0.01885\n",
      "[113]\ttrain-logloss:0.26670+0.00754\ttest-logloss:0.32723+0.01880\n",
      "[114]\ttrain-logloss:0.26624+0.00749\ttest-logloss:0.32681+0.01873\n",
      "[115]\ttrain-logloss:0.26561+0.00757\ttest-logloss:0.32648+0.01888\n",
      "[116]\ttrain-logloss:0.26503+0.00753\ttest-logloss:0.32628+0.01874\n",
      "[117]\ttrain-logloss:0.26447+0.00766\ttest-logloss:0.32609+0.01875\n",
      "[118]\ttrain-logloss:0.26382+0.00768\ttest-logloss:0.32604+0.01916\n",
      "[119]\ttrain-logloss:0.26330+0.00772\ttest-logloss:0.32621+0.01940\n",
      "[120]\ttrain-logloss:0.26259+0.00750\ttest-logloss:0.32580+0.01934\n",
      "[121]\ttrain-logloss:0.26209+0.00747\ttest-logloss:0.32553+0.01903\n",
      "[122]\ttrain-logloss:0.26154+0.00771\ttest-logloss:0.32537+0.01890\n",
      "[123]\ttrain-logloss:0.26095+0.00781\ttest-logloss:0.32525+0.01921\n",
      "[124]\ttrain-logloss:0.26052+0.00793\ttest-logloss:0.32538+0.01939\n",
      "[125]\ttrain-logloss:0.25993+0.00781\ttest-logloss:0.32490+0.01929\n"
     ]
    },
    {
     "name": "stdout",
     "output_type": "stream",
     "text": [
      "[126]\ttrain-logloss:0.25952+0.00778\ttest-logloss:0.32502+0.01918\n",
      "[127]\ttrain-logloss:0.25905+0.00787\ttest-logloss:0.32502+0.01911\n",
      "[128]\ttrain-logloss:0.25848+0.00773\ttest-logloss:0.32462+0.01915\n",
      "[129]\ttrain-logloss:0.25784+0.00764\ttest-logloss:0.32418+0.01918\n",
      "[130]\ttrain-logloss:0.25735+0.00763\ttest-logloss:0.32414+0.01909\n",
      "[131]\ttrain-logloss:0.25675+0.00751\ttest-logloss:0.32384+0.01902\n",
      "[132]\ttrain-logloss:0.25607+0.00749\ttest-logloss:0.32355+0.01951\n",
      "[133]\ttrain-logloss:0.25566+0.00751\ttest-logloss:0.32350+0.01929\n",
      "[134]\ttrain-logloss:0.25509+0.00743\ttest-logloss:0.32326+0.01921\n",
      "[135]\ttrain-logloss:0.25463+0.00744\ttest-logloss:0.32307+0.01932\n",
      "[136]\ttrain-logloss:0.25419+0.00750\ttest-logloss:0.32317+0.01953\n",
      "[137]\ttrain-logloss:0.25379+0.00753\ttest-logloss:0.32272+0.01954\n",
      "[138]\ttrain-logloss:0.25322+0.00748\ttest-logloss:0.32289+0.01971\n",
      "[139]\ttrain-logloss:0.25269+0.00748\ttest-logloss:0.32283+0.02038\n",
      "[140]\ttrain-logloss:0.25224+0.00750\ttest-logloss:0.32303+0.02069\n",
      "[141]\ttrain-logloss:0.25184+0.00754\ttest-logloss:0.32295+0.02080\n",
      "[142]\ttrain-logloss:0.25149+0.00749\ttest-logloss:0.32273+0.02095\n",
      "[143]\ttrain-logloss:0.25103+0.00760\ttest-logloss:0.32286+0.02072\n",
      "[144]\ttrain-logloss:0.25053+0.00753\ttest-logloss:0.32276+0.02094\n",
      "[145]\ttrain-logloss:0.25002+0.00746\ttest-logloss:0.32282+0.02113\n",
      "[146]\ttrain-logloss:0.24956+0.00747\ttest-logloss:0.32308+0.02127\n",
      "[147]\ttrain-logloss:0.24906+0.00748\ttest-logloss:0.32261+0.02121\n",
      "[148]\ttrain-logloss:0.24868+0.00752\ttest-logloss:0.32229+0.02106\n",
      "[149]\ttrain-logloss:0.24831+0.00759\ttest-logloss:0.32232+0.02122\n",
      "[150]\ttrain-logloss:0.24785+0.00765\ttest-logloss:0.32222+0.02126\n",
      "[151]\ttrain-logloss:0.24743+0.00760\ttest-logloss:0.32167+0.02125\n",
      "[152]\ttrain-logloss:0.24711+0.00764\ttest-logloss:0.32178+0.02180\n",
      "[153]\ttrain-logloss:0.24659+0.00772\ttest-logloss:0.32148+0.02149\n",
      "[154]\ttrain-logloss:0.24631+0.00770\ttest-logloss:0.32147+0.02161\n",
      "[155]\ttrain-logloss:0.24587+0.00762\ttest-logloss:0.32124+0.02164\n",
      "[156]\ttrain-logloss:0.24537+0.00751\ttest-logloss:0.32108+0.02194\n",
      "[157]\ttrain-logloss:0.24495+0.00749\ttest-logloss:0.32089+0.02192\n",
      "[158]\ttrain-logloss:0.24443+0.00741\ttest-logloss:0.32082+0.02209\n",
      "[159]\ttrain-logloss:0.24401+0.00740\ttest-logloss:0.32084+0.02211\n",
      "[160]\ttrain-logloss:0.24357+0.00761\ttest-logloss:0.32081+0.02229\n",
      "[161]\ttrain-logloss:0.24322+0.00760\ttest-logloss:0.32073+0.02257\n",
      "[162]\ttrain-logloss:0.24274+0.00774\ttest-logloss:0.32093+0.02240\n",
      "[163]\ttrain-logloss:0.24233+0.00770\ttest-logloss:0.32084+0.02263\n",
      "[164]\ttrain-logloss:0.24195+0.00776\ttest-logloss:0.32091+0.02268\n",
      "[165]\ttrain-logloss:0.24161+0.00772\ttest-logloss:0.32093+0.02258\n",
      "[166]\ttrain-logloss:0.24123+0.00767\ttest-logloss:0.32079+0.02265\n",
      "[167]\ttrain-logloss:0.24071+0.00766\ttest-logloss:0.32049+0.02239\n",
      "[168]\ttrain-logloss:0.24033+0.00770\ttest-logloss:0.32065+0.02276\n",
      "[169]\ttrain-logloss:0.23996+0.00773\ttest-logloss:0.32062+0.02295\n",
      "[170]\ttrain-logloss:0.23966+0.00774\ttest-logloss:0.32068+0.02285\n",
      "[171]\ttrain-logloss:0.23936+0.00773\ttest-logloss:0.32017+0.02293\n",
      "[172]\ttrain-logloss:0.23905+0.00769\ttest-logloss:0.32004+0.02281\n",
      "[173]\ttrain-logloss:0.23854+0.00783\ttest-logloss:0.32022+0.02348\n",
      "[174]\ttrain-logloss:0.23819+0.00784\ttest-logloss:0.32017+0.02346\n",
      "[175]\ttrain-logloss:0.23779+0.00796\ttest-logloss:0.32024+0.02378\n",
      "[176]\ttrain-logloss:0.23748+0.00796\ttest-logloss:0.32037+0.02390\n",
      "[177]\ttrain-logloss:0.23715+0.00799\ttest-logloss:0.32028+0.02410\n",
      "[178]\ttrain-logloss:0.23669+0.00809\ttest-logloss:0.32011+0.02416\n",
      "[179]\ttrain-logloss:0.23638+0.00810\ttest-logloss:0.32034+0.02429\n",
      "[180]\ttrain-logloss:0.23597+0.00802\ttest-logloss:0.31998+0.02435\n",
      "[181]\ttrain-logloss:0.23544+0.00796\ttest-logloss:0.31998+0.02476\n",
      "[182]\ttrain-logloss:0.23515+0.00798\ttest-logloss:0.31988+0.02480\n",
      "[183]\ttrain-logloss:0.23473+0.00812\ttest-logloss:0.31987+0.02485\n",
      "[184]\ttrain-logloss:0.23439+0.00822\ttest-logloss:0.32009+0.02520\n",
      "[185]\ttrain-logloss:0.23404+0.00814\ttest-logloss:0.32008+0.02517\n",
      "[186]\ttrain-logloss:0.23375+0.00811\ttest-logloss:0.32020+0.02543\n",
      "[187]\ttrain-logloss:0.23343+0.00817\ttest-logloss:0.32009+0.02506\n",
      "[188]\ttrain-logloss:0.23302+0.00819\ttest-logloss:0.32002+0.02487\n",
      "[189]\ttrain-logloss:0.23262+0.00822\ttest-logloss:0.32006+0.02470\n",
      "[190]\ttrain-logloss:0.23222+0.00819\ttest-logloss:0.31989+0.02490\n",
      "[191]\ttrain-logloss:0.23189+0.00824\ttest-logloss:0.31965+0.02495\n",
      "[192]\ttrain-logloss:0.23152+0.00825\ttest-logloss:0.31975+0.02541\n",
      "[193]\ttrain-logloss:0.23123+0.00818\ttest-logloss:0.31991+0.02534\n",
      "[194]\ttrain-logloss:0.23090+0.00818\ttest-logloss:0.31988+0.02540\n",
      "[195]\ttrain-logloss:0.23056+0.00825\ttest-logloss:0.32022+0.02582\n",
      "[196]\ttrain-logloss:0.23011+0.00824\ttest-logloss:0.32031+0.02590\n",
      "[197]\ttrain-logloss:0.22976+0.00830\ttest-logloss:0.32053+0.02624\n",
      "[198]\ttrain-logloss:0.22941+0.00836\ttest-logloss:0.32031+0.02627\n",
      "[199]\ttrain-logloss:0.22895+0.00842\ttest-logloss:0.32092+0.02681\n",
      "[200]\ttrain-logloss:0.22860+0.00845\ttest-logloss:0.32108+0.02690\n",
      "[201]\ttrain-logloss:0.22835+0.00841\ttest-logloss:0.32093+0.02688\n",
      "[202]\ttrain-logloss:0.22813+0.00845\ttest-logloss:0.32105+0.02707\n",
      "[203]\ttrain-logloss:0.22784+0.00856\ttest-logloss:0.32096+0.02694\n",
      "[204]\ttrain-logloss:0.22734+0.00860\ttest-logloss:0.32088+0.02690\n",
      "[205]\ttrain-logloss:0.22700+0.00855\ttest-logloss:0.32086+0.02679\n",
      "[206]\ttrain-logloss:0.22670+0.00858\ttest-logloss:0.32104+0.02674\n",
      "[207]\ttrain-logloss:0.22629+0.00864\ttest-logloss:0.32109+0.02671\n",
      "[208]\ttrain-logloss:0.22596+0.00856\ttest-logloss:0.32092+0.02673\n",
      "[209]\ttrain-logloss:0.22555+0.00853\ttest-logloss:0.32067+0.02694\n",
      "[210]\ttrain-logloss:0.22507+0.00838\ttest-logloss:0.32067+0.02687\n",
      "[211]\ttrain-logloss:0.22482+0.00835\ttest-logloss:0.32056+0.02675\n",
      "Stopping. Best iteration:\n",
      "[191]\ttrain-logloss:0.23189+0.00824\ttest-logloss:0.31965+0.02495\n",
      "\n",
      "\u001b[1m*-* \u001b[92mBest Boosting Round = 191\u001b[0m\u001b[1m -*- \u001b[31m4-Folds CV LOGLOSS: \u001b[0m\u001b[1m\u001b[44mTrain = 0.232 +/- 0.008\u001b[0m\u001b[1m -*- \u001b[45mTest = 0.320 +/- 0.025\u001b[0m\u001b[1m *-*\n"
     ]
    }
   ],
   "source": [
    "# setup feature selector object\n",
    "params={\"eval_metric\" : \"auc\",\n",
    "        \"learning_rate\" : 0.05,\n",
    "        \"max_depth\": 2,\n",
    "        \"min_child_weight\" : 1,\n",
    "        \"gamma\" : 0.0}\n",
    "\n",
    "clf = XGBoostCVClassifier(num_boost_round=500,\n",
    "                          n_splits=4,\n",
    "                          metrics=(\"logloss\"),\n",
    "                          params=params,\n",
    "                          callbacks=True)\n",
    "clf.fit(X_train, y_train)"
   ]
  },
  {
   "cell_type": "code",
   "execution_count": 10,
   "metadata": {},
   "outputs": [
    {
     "data": {
      "image/png": "[encoded data removed]",
      "text/plain": [
       "<Figure size 576x360 with 1 Axes>"
      ]
     },
     "metadata": {},
     "output_type": "display_data"
    }
   ],
   "source": [
    "clf.plot_cv_results()"
   ]
  },
  {
   "cell_type": "code",
   "execution_count": 11,
   "metadata": {},
   "outputs": [
    {
     "data": {
      "image/png": "[encoded data removed]",
      "text/plain": [
       "<Figure size 576x360 with 1 Axes>"
      ]
     },
     "metadata": {},
     "output_type": "display_data"
    }
   ],
   "source": [
    "clf.plot_feature_importance()"
   ]
  },
  {
   "cell_type": "code",
   "execution_count": 12,
   "metadata": {},
   "outputs": [
    {
     "data": {
      "text/plain": [
       "array([0.6872404 , 0.6437372 , 0.9898107 , 0.91745585, 0.8029401 ,\n",
       "       0.79498386, 0.6696425 , 0.9213432 , 0.9763105 , 0.9957327 ],\n",
       "      dtype=float32)"
      ]
     },
     "execution_count": 12,
     "metadata": {},
     "output_type": "execute_result"
    }
   ],
   "source": [
    "# predic proba (or clf.y_pred_proba_)\n",
    "y_pred_proba = clf.predict_proba(X_test, y_test)\n",
    "y_pred_proba[:10]"
   ]
  },
  {
   "cell_type": "code",
   "execution_count": 13,
   "metadata": {},
   "outputs": [
    {
     "data": {
      "text/plain": [
       "array([0.6872404 , 0.6437372 , 0.9898107 , 0.91745585, 0.8029401 ,\n",
       "       0.79498386, 0.6696425 , 0.9213432 , 0.9763105 , 0.9957327 ],\n",
       "      dtype=float32)"
      ]
     },
     "execution_count": 13,
     "metadata": {},
     "output_type": "execute_result"
    }
   ],
   "source": [
    "# (or clf.y_pred_proba_)\n",
    "clf.y_pred_proba_[:10]"
   ]
  },
  {
   "cell_type": "code",
   "execution_count": 14,
   "metadata": {},
   "outputs": [
    {
     "data": {
      "text/html": [
       "[1, 0, 1, 1, 1, 1, 0, 1, 1, 1]"
      ],
      "text/plain": [
       "[1, 0, 1, 1, 1, 1, 0, 1, 1, 1]"
      ]
     },
     "execution_count": 14,
     "metadata": {},
     "output_type": "execute_result"
    }
   ],
   "source": [
    "# pred class (or clf.y_pred_)\n",
    "# threshold can be set \n",
    "y_pred = clf.predict(X_test, threshold=0.67)\n",
    "y_pred[:10]"
   ]
  },
  {
   "cell_type": "code",
   "execution_count": 15,
   "metadata": {},
   "outputs": [
    {
     "data": {
      "image/png": "[encoded data removed]",
      "text/plain": [
       "<Figure size 576x280.8 with 2 Axes>"
      ]
     },
     "metadata": {},
     "output_type": "display_data"
    }
   ],
   "source": [
    "# shap summary plot violin on test data\n",
    "clf.plot_shap_summary(plot_type=\"violin\", validation=True)"
   ]
  },
  {
   "cell_type": "code",
   "execution_count": 16,
   "metadata": {
    "scrolled": true
   },
   "outputs": [
    {
     "data": {
      "image/png": "[encoded data removed]",
      "text/plain": [
       "<Figure size 576x280.8 with 2 Axes>"
      ]
     },
     "metadata": {},
     "output_type": "display_data"
    }
   ],
   "source": [
    "# shap summary plot layered violin plot on train data\n",
    "clf.plot_shap_summary(plot_type=\"layered_violin\", validation=False, layered_violin_max_num_bins=5)"
   ]
  },
  {
   "cell_type": "code",
   "execution_count": 17,
   "metadata": {},
   "outputs": [
    {
     "data": {
      "image/png": "[encoded data removed]",
      "text/plain": [
       "<Figure size 576x360 with 2 Axes>"
      ]
     },
     "metadata": {},
     "output_type": "display_data"
    }
   ],
   "source": [
    "# shap waterfall plot\n",
    "clf.plot_shap_waterfall()"
   ]
  },
  {
   "cell_type": "code",
   "execution_count": 18,
   "metadata": {},
   "outputs": [
    {
     "data": {
      "text/plain": [
       "array([[-1.17578661e+00, -5.86567044e-01,  2.24011347e-01,\n",
       "         1.57289244e-02,  5.16849458e-01,  1.82012349e-01],\n",
       "       [ 2.63391405e-01, -6.70697689e-01, -3.13290775e-01,\n",
       "        -2.99329627e-02, -1.77391380e-01, -9.14573073e-02],\n",
       "       [ 1.92844176e+00,  1.65123546e+00,  6.71078265e-02,\n",
       "        -1.91674568e-04, -4.64400291e-01, -2.17012703e-01],\n",
       "       [ 1.73300028e+00,  5.55277169e-02,  7.87695572e-02,\n",
       "         7.93843195e-02, -5.03318131e-01, -6.46094084e-01],\n",
       "       [-8.95560607e-02, -1.23228216e+00, -3.07602823e-01,\n",
       "        -7.56613836e-02,  5.68822742e-01,  9.30051088e-01],\n",
       "       [ 2.82156050e-01, -1.97538398e-02, -2.15325534e-01,\n",
       "         6.93768915e-03, -1.98684931e-01, -1.11096114e-01],\n",
       "       [ 2.41128638e-01, -9.37509894e-01,  1.55264497e-01,\n",
       "        -3.11029796e-03, -2.40322769e-01, -1.19882606e-01],\n",
       "       [ 3.48925084e-01,  6.94350719e-01,  7.06390738e-02,\n",
       "         5.83638158e-03, -1.72579139e-01, -9.74345058e-02],\n",
       "       [ 2.96836704e-01,  1.69714773e+00,  1.37419537e-01,\n",
       "        -7.43760616e-02,  8.90425518e-02, -3.83233465e-02],\n",
       "       [ 2.48138022e+00,  1.67747438e+00,  1.33881077e-01,\n",
       "         1.84596092e-01, -4.25922215e-01, -2.09897041e-01]], dtype=float32)"
      ]
     },
     "execution_count": 18,
     "metadata": {},
     "output_type": "execute_result"
    }
   ],
   "source": [
    "clf.shap_values_test_[:10]"
   ]
  },
  {
   "cell_type": "code",
   "execution_count": 19,
   "metadata": {},
   "outputs": [
    {
     "data": {
      "text/plain": [
       "array([[ 1.6810727 ,  1.8670248 , -0.12494415, -0.11206084, -0.5291322 ,\n",
       "        -0.4470591 ],\n",
       "       [ 0.20235999, -0.23255867,  0.05476505,  0.06951104, -0.21339028,\n",
       "        -0.4764193 ],\n",
       "       [ 0.15221135, -1.1012809 , -0.32120004,  0.01052977,  0.04009805,\n",
       "         0.23228301],\n",
       "       [ 2.3585417 ,  1.646324  ,  0.06655529, -0.08806157, -0.11101343,\n",
       "         0.0118833 ],\n",
       "       [ 2.3252146 ,  0.07344273,  0.06707823,  0.1696119 , -0.47139165,\n",
       "        -1.3900161 ],\n",
       "       [ 1.6970465 ,  1.8670248 , -0.12494415, -0.07160836, -0.5291322 ,\n",
       "        -0.4470591 ],\n",
       "       [ 1.6877612 ,  0.63464016,  0.06441025, -0.0825933 , -0.2945922 ,\n",
       "        -0.23303552],\n",
       "       [ 0.25127745,  0.03300017,  0.15304364, -0.10549548, -0.1993008 ,\n",
       "         0.8770816 ],\n",
       "       [ 0.12158564, -0.06782506,  0.08321874,  0.01529711,  0.55117816,\n",
       "         0.2280842 ],\n",
       "       [ 0.18574946, -1.0985618 ,  0.1552645 ,  0.02025529, -0.2360702 ,\n",
       "        -0.43954518]], dtype=float32)"
      ]
     },
     "execution_count": 19,
     "metadata": {},
     "output_type": "execute_result"
    }
   ],
   "source": [
    "clf.shap_values_train_[:10]"
   ]
  },
  {
   "cell_type": "code",
   "execution_count": 20,
   "metadata": {},
   "outputs": [
    {
     "data": {
      "text/html": [
       "<div>\n",
       "<style scoped>\n",
       "    .dataframe tbody tr th:only-of-type {\n",
       "        vertical-align: middle;\n",
       "    }\n",
       "\n",
       "    .dataframe tbody tr th {\n",
       "        vertical-align: top;\n",
       "    }\n",
       "\n",
       "    .dataframe thead th {\n",
       "        text-align: right;\n",
       "    }\n",
       "</style>\n",
       "<table border=\"1\" class=\"dataframe\">\n",
       "  <thead>\n",
       "    <tr style=\"text-align: right;\">\n",
       "      <th></th>\n",
       "      <th>train-logloss-mean</th>\n",
       "      <th>train-logloss-std</th>\n",
       "      <th>test-logloss-mean</th>\n",
       "      <th>test-logloss-std</th>\n",
       "    </tr>\n",
       "  </thead>\n",
       "  <tbody>\n",
       "    <tr>\n",
       "      <th>187</th>\n",
       "      <td>0.233434</td>\n",
       "      <td>0.008174</td>\n",
       "      <td>0.320090</td>\n",
       "      <td>0.025060</td>\n",
       "    </tr>\n",
       "    <tr>\n",
       "      <th>188</th>\n",
       "      <td>0.233021</td>\n",
       "      <td>0.008195</td>\n",
       "      <td>0.320024</td>\n",
       "      <td>0.024866</td>\n",
       "    </tr>\n",
       "    <tr>\n",
       "      <th>189</th>\n",
       "      <td>0.232621</td>\n",
       "      <td>0.008224</td>\n",
       "      <td>0.320062</td>\n",
       "      <td>0.024701</td>\n",
       "    </tr>\n",
       "    <tr>\n",
       "      <th>190</th>\n",
       "      <td>0.232216</td>\n",
       "      <td>0.008193</td>\n",
       "      <td>0.319890</td>\n",
       "      <td>0.024903</td>\n",
       "    </tr>\n",
       "    <tr>\n",
       "      <th>191</th>\n",
       "      <td>0.231895</td>\n",
       "      <td>0.008241</td>\n",
       "      <td>0.319651</td>\n",
       "      <td>0.024945</td>\n",
       "    </tr>\n",
       "  </tbody>\n",
       "</table>\n",
       "</div>"
      ],
      "text/plain": [
       "     train-logloss-mean  train-logloss-std  test-logloss-mean  \\\n",
       "187            0.233434           0.008174           0.320090   \n",
       "188            0.233021           0.008195           0.320024   \n",
       "189            0.232621           0.008224           0.320062   \n",
       "190            0.232216           0.008193           0.319890   \n",
       "191            0.231895           0.008241           0.319651   \n",
       "\n",
       "     test-logloss-std  \n",
       "187          0.025060  \n",
       "188          0.024866  \n",
       "189          0.024701  \n",
       "190          0.024903  \n",
       "191          0.024945  "
      ]
     },
     "execution_count": 20,
     "metadata": {},
     "output_type": "execute_result"
    }
   ],
   "source": [
    "# cv_results (or clf.cv_results_)\n",
    "cvr = clf.get_cv_results()\n",
    "cvr.tail()"
   ]
  },
  {
   "cell_type": "code",
   "execution_count": 21,
   "metadata": {
    "scrolled": true
   },
   "outputs": [
    {
     "data": {
      "text/html": [
       "<div>\n",
       "<style scoped>\n",
       "    .dataframe tbody tr th:only-of-type {\n",
       "        vertical-align: middle;\n",
       "    }\n",
       "\n",
       "    .dataframe tbody tr th {\n",
       "        vertical-align: top;\n",
       "    }\n",
       "\n",
       "    .dataframe thead th {\n",
       "        text-align: right;\n",
       "    }\n",
       "</style>\n",
       "<table border=\"1\" class=\"dataframe\">\n",
       "  <thead>\n",
       "    <tr style=\"text-align: right;\">\n",
       "      <th></th>\n",
       "      <th>feature</th>\n",
       "      <th>total_gain</th>\n",
       "    </tr>\n",
       "  </thead>\n",
       "  <tbody>\n",
       "    <tr>\n",
       "      <th>0</th>\n",
       "      <td>F1</td>\n",
       "      <td>1145.921151</td>\n",
       "    </tr>\n",
       "    <tr>\n",
       "      <th>1</th>\n",
       "      <td>F6</td>\n",
       "      <td>622.148287</td>\n",
       "    </tr>\n",
       "    <tr>\n",
       "      <th>2</th>\n",
       "      <td>F5</td>\n",
       "      <td>570.030153</td>\n",
       "    </tr>\n",
       "    <tr>\n",
       "      <th>3</th>\n",
       "      <td>F2</td>\n",
       "      <td>479.170822</td>\n",
       "    </tr>\n",
       "    <tr>\n",
       "      <th>4</th>\n",
       "      <td>F4</td>\n",
       "      <td>88.880518</td>\n",
       "    </tr>\n",
       "    <tr>\n",
       "      <th>5</th>\n",
       "      <td>F3</td>\n",
       "      <td>86.359118</td>\n",
       "    </tr>\n",
       "  </tbody>\n",
       "</table>\n",
       "</div>"
      ],
      "text/plain": [
       "  feature   total_gain\n",
       "0      F1  1145.921151\n",
       "1      F6   622.148287\n",
       "2      F5   570.030153\n",
       "3      F2   479.170822\n",
       "4      F4    88.880518\n",
       "5      F3    86.359118"
      ]
     },
     "execution_count": 21,
     "metadata": {},
     "output_type": "execute_result"
    }
   ],
   "source": [
    "# feature importance (or clf.feature_importance_)\n",
    "clf.get_feature_importance()"
   ]
  },
  {
   "cell_type": "code",
   "execution_count": 22,
   "metadata": {},
   "outputs": [
    {
     "data": {
      "text/plain": [
       "<xgboost.core.Booster at 0x7f0b0f942e10>"
      ]
     },
     "execution_count": 22,
     "metadata": {},
     "output_type": "execute_result"
    }
   ],
   "source": [
    "clf.model_"
   ]
  }
 ],
 "metadata": {
  "kernelspec": {
   "display_name": "Python 3",
   "language": "python",
   "name": "python3"
  },
  "language_info": {
   "codemirror_mode": {
    "name": "ipython",
    "version": 3
   },
   "file_extension": ".py",
   "mimetype": "text/x-python",
   "name": "python",
   "nbconvert_exporter": "python",
   "pygments_lexer": "ipython3",
   "version": "3.7.6"
  }
 },
 "nbformat": 4,
 "nbformat_minor": 4
}
